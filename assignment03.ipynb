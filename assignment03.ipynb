{
  "nbformat": 4,
  "nbformat_minor": 0,
  "metadata": {
    "colab": {
      "provenance": [],
      "collapsed_sections": [],
      "authorship_tag": "ABX9TyNWU6uN/F5JxM5dKwZJtCaB",
      "include_colab_link": true
    },
    "kernelspec": {
      "name": "python3",
      "display_name": "Python 3"
    },
    "language_info": {
      "name": "python"
    }
  },
  "cells": [
    {
      "cell_type": "markdown",
      "metadata": {
        "id": "view-in-github",
        "colab_type": "text"
      },
      "source": [
        "<a href=\"https://colab.research.google.com/github/PosgradoMNA/Actividades_Aprendizaje-A01794023-Andres_Palacios/blob/main/assignment03.ipynb\" target=\"_parent\"><img src=\"https://colab.research.google.com/assets/colab-badge.svg\" alt=\"Open In Colab\"/></a>"
      ]
    },
    {
      "cell_type": "markdown",
      "source": [
        "# Curso Python Jaime Andres Palacios, matrícula A01794023"
      ],
      "metadata": {
        "id": "cMHsIzmBvpHa"
      }
    },
    {
      "cell_type": "markdown",
      "source": [
        "## **Module 5 - Working with Numpy Arrays & Simple APIs**"
      ],
      "metadata": {
        "id": "M2_6EGcLv5Xv"
      }
    },
    {
      "cell_type": "markdown",
      "source": [
        "**Numpy 1D Arrays**\n",
        "\n",
        "Un *\"numpy array\"* o *\"ndarray\"* es similar a una lista. Suele tener un tamaño fijo y cada elemento es del mismo tipo. Podemos convertir una lista en una matriz numpy."
      ],
      "metadata": {
        "id": "BUNdkuI7wB6J"
      }
    },
    {
      "cell_type": "code",
      "source": [
        "#Llamamos a numpy\n",
        "import numpy as np\n",
        "\n",
        "#Creamos la matriz\n",
        "a = np.array([0,1,2,3,4])\n",
        "print(a)\n",
        "\n",
        "#verificamos el atributo de 'a'\n",
        "print('type(a):',type(a) )\n",
        "\n",
        "#verificamos el atributo de la data de 'a'\n",
        "print('a.dtype:',a.dtype)\n",
        "\n",
        "#verificamos el tamaño de 'a'\n",
        "print('a.size:',a.size)\n",
        "\n",
        "#verificamos el número de dimensiones del array 'a' o el rango de la matriz\n",
        "print('ndim:',a.ndim)"
      ],
      "metadata": {
        "id": "v_Jw6ImRwRL2",
        "colab": {
          "base_uri": "https://localhost:8080/"
        },
        "outputId": "544e9e7e-4d3f-4128-87a5-8c69a6a5e583"
      },
      "execution_count": null,
      "outputs": [
        {
          "output_type": "stream",
          "name": "stdout",
          "text": [
            "[0 1 2 3 4]\n",
            "type(a): <class 'numpy.ndarray'>\n",
            "a.dtype: int64\n",
            "a.size: 5\n",
            "ndim: 1\n"
          ]
        }
      ]
    },
    {
      "cell_type": "markdown",
      "source": [
        "Indexing y slicing methods"
      ],
      "metadata": {
        "id": "BhJAwLtncZ_W"
      }
    },
    {
      "cell_type": "code",
      "source": [
        "#Creamos el array\n",
        "c = np.array = ([20,1,2,3,4])\n",
        "c"
      ],
      "metadata": {
        "colab": {
          "base_uri": "https://localhost:8080/"
        },
        "id": "i0ZJMq3_cZKD",
        "outputId": "7cb022e7-a315-41b0-c5bb-46487b1cb96b"
      },
      "execution_count": null,
      "outputs": [
        {
          "output_type": "execute_result",
          "data": {
            "text/plain": [
              "[20, 1, 2, 3, 4]"
            ]
          },
          "metadata": {},
          "execution_count": 2
        }
      ]
    },
    {
      "cell_type": "code",
      "source": [
        "#modificamos el primer valor la matriz 'c'\n",
        "c[0]=100\n",
        "c"
      ],
      "metadata": {
        "colab": {
          "base_uri": "https://localhost:8080/"
        },
        "id": "LFkNK_vVd2B7",
        "outputId": "546300ef-ef8a-459f-827d-1cd618f6eea6"
      },
      "execution_count": null,
      "outputs": [
        {
          "output_type": "execute_result",
          "data": {
            "text/plain": [
              "[100, 1, 2, 3, 4]"
            ]
          },
          "metadata": {},
          "execution_count": 3
        }
      ]
    },
    {
      "cell_type": "code",
      "source": [
        "#probamos modificando el primer ultimo valor la matriz 'c'\n",
        "c[4]=0\n",
        "c"
      ],
      "metadata": {
        "colab": {
          "base_uri": "https://localhost:8080/"
        },
        "id": "kgVifqOWd7lA",
        "outputId": "8e0a9dcd-93a0-419a-da3c-feaac596b83b"
      },
      "execution_count": null,
      "outputs": [
        {
          "output_type": "execute_result",
          "data": {
            "text/plain": [
              "[100, 1, 2, 3, 0]"
            ]
          },
          "metadata": {},
          "execution_count": 4
        }
      ]
    },
    {
      "cell_type": "code",
      "source": [
        "#Indexamos algunos valores de 'c' en 'd'\n",
        "d = c[1:4]\n",
        "d"
      ],
      "metadata": {
        "colab": {
          "base_uri": "https://localhost:8080/"
        },
        "id": "5ZvA9tRseQNP",
        "outputId": "9c7b89aa-c50e-41b0-c78b-4f41c0fb9442"
      },
      "execution_count": null,
      "outputs": [
        {
          "output_type": "execute_result",
          "data": {
            "text/plain": [
              "[1, 2, 3]"
            ]
          },
          "metadata": {},
          "execution_count": 5
        }
      ]
    },
    {
      "cell_type": "code",
      "source": [
        "#También podemos asignar nuevos valores a diferentes datos con una sola lines\n",
        "c[3:5] = 300,400\n",
        "c"
      ],
      "metadata": {
        "colab": {
          "base_uri": "https://localhost:8080/"
        },
        "id": "MwWRx-l_e9jj",
        "outputId": "e455fa89-c3d2-40df-b79d-0223cee9e4d1"
      },
      "execution_count": null,
      "outputs": [
        {
          "output_type": "execute_result",
          "data": {
            "text/plain": [
              "[100, 1, 2, 300, 400]"
            ]
          },
          "metadata": {},
          "execution_count": 6
        }
      ]
    },
    {
      "cell_type": "markdown",
      "source": [
        "Basic operations"
      ],
      "metadata": {
        "id": "UraAt9LVfmgY"
      }
    },
    {
      "cell_type": "code",
      "source": [
        "#Creamos dos vectores\n",
        "u=np.array([1,0])\n",
        "v=np.array([0,1])\n",
        "\n",
        "#Los sumamos\n",
        "z = u+v\n",
        "z"
      ],
      "metadata": {
        "colab": {
          "base_uri": "https://localhost:8080/"
        },
        "id": "n_giC13efrga",
        "outputId": "79290d4e-7583-4201-8395-04de05ca67d2"
      },
      "execution_count": null,
      "outputs": [
        {
          "output_type": "execute_result",
          "data": {
            "text/plain": [
              "array([1, 1])"
            ]
          },
          "metadata": {},
          "execution_count": 3
        }
      ]
    },
    {
      "cell_type": "markdown",
      "source": [
        "**Numpy 2D Arrays**\n",
        "\n",
        "Podemos crear matrices Numpy con más de una dimensión"
      ],
      "metadata": {
        "id": "fUIxGKnQoaV8"
      }
    },
    {
      "cell_type": "code",
      "source": [
        "#Creamos un array que contiene tres listas anidadas, cada una de igual tamaño\n",
        "a = [[11,12,13],[21,22,23],[31,32,33]]\n",
        "A = np.array(a)\n",
        "print(A)\n",
        "\n",
        "print('A.ndim:',A.ndim)\n",
        "print('A.shape:',A.shape)\n",
        "print('A.size:',A.size)"
      ],
      "metadata": {
        "colab": {
          "base_uri": "https://localhost:8080/"
        },
        "id": "gkMMbMolo1pg",
        "outputId": "afaff8b2-df24-4992-a6b0-8e399b69b7fb"
      },
      "execution_count": null,
      "outputs": [
        {
          "output_type": "stream",
          "name": "stdout",
          "text": [
            "[[11 12 13]\n",
            " [21 22 23]\n",
            " [31 32 33]]\n",
            "A.ndim: 2\n",
            "A.shape: (3, 3)\n",
            "A.size: 9\n"
          ]
        }
      ]
    },
    {
      "cell_type": "code",
      "source": [
        "#Llamamos valores mediante indexación\n",
        "A[0][0] #el primer valor cuenta de arriba hacia abajo y el segundo de izquierda a derecha"
      ],
      "metadata": {
        "colab": {
          "base_uri": "https://localhost:8080/"
        },
        "id": "bvd7uhuJrvvA",
        "outputId": "4c150a53-2d46-442a-9a46-8b1c68a97547"
      },
      "execution_count": null,
      "outputs": [
        {
          "output_type": "execute_result",
          "data": {
            "text/plain": [
              "11"
            ]
          },
          "metadata": {},
          "execution_count": 12
        }
      ]
    },
    {
      "cell_type": "code",
      "source": [
        "A[2][2] #el primer valor cuenta de arriba hacia abajo y el segundo de izquierda a derecha"
      ],
      "metadata": {
        "colab": {
          "base_uri": "https://localhost:8080/"
        },
        "id": "dbziLG7QsXJ5",
        "outputId": "86cd0a55-cce4-414c-c2c1-f9b482cf7330"
      },
      "execution_count": null,
      "outputs": [
        {
          "output_type": "execute_result",
          "data": {
            "text/plain": [
              "33"
            ]
          },
          "metadata": {},
          "execution_count": 13
        }
      ]
    }
  ]
}