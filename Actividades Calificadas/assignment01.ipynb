{
  "nbformat": 4,
  "nbformat_minor": 0,
  "metadata": {
    "colab": {
      "name": "assignment01.ipynb",
      "provenance": [],
      "include_colab_link": true
    },
    "kernelspec": {
      "name": "python3",
      "display_name": "Python 3"
    },
    "language_info": {
      "name": "python"
    }
  },
  "cells": [
    {
      "cell_type": "markdown",
      "metadata": {
        "id": "view-in-github",
        "colab_type": "text"
      },
      "source": [
        "<a href=\"https://colab.research.google.com/github/PosgradoMNA/Actividades_Aprendizaje-A01794023-Andres_Palacios/blob/main/assignment01.ipynb\" target=\"_parent\"><img src=\"https://colab.research.google.com/assets/colab-badge.svg\" alt=\"Open In Colab\"/></a>"
      ]
    },
    {
      "cell_type": "markdown",
      "source": [
        "# Curso Python Jaime Andres Palacios, matrícula A01794023"
      ],
      "metadata": {
        "id": "ZnKWEI9rmli7"
      }
    },
    {
      "cell_type": "markdown",
      "source": [
        "**MODULE 1: Python basics**"
      ],
      "metadata": {
        "id": "3laMQsU9jGic"
      }
    },
    {
      "cell_type": "code",
      "source": [
        "#Imprimir por primera vez\n",
        "print(\"Hello Python 101\")"
      ],
      "metadata": {
        "id": "mxM_WppZPMFx",
        "colab": {
          "base_uri": "https://localhost:8080/"
        },
        "outputId": "1084ad58-dc09-4af1-dd62-91beccd5d879"
      },
      "execution_count": 1,
      "outputs": [
        {
          "output_type": "stream",
          "name": "stdout",
          "text": [
            "Hello Python 101\n"
          ]
        }
      ]
    },
    {
      "cell_type": "code",
      "source": [
        "#Espaciado\n",
        "print(\"Hello\\nWorld!\")"
      ],
      "metadata": {
        "colab": {
          "base_uri": "https://localhost:8080/"
        },
        "id": "Rs4aEPWLje61",
        "outputId": "b15b2408-c252-4365-988f-26a0eae69177"
      },
      "execution_count": 2,
      "outputs": [
        {
          "output_type": "stream",
          "name": "stdout",
          "text": [
            "Hello\n",
            "World!\n"
          ]
        }
      ]
    },
    {
      "cell_type": "markdown",
      "source": [
        "**Types**"
      ],
      "metadata": {
        "id": "VzSpl0ninUns"
      }
    },
    {
      "cell_type": "code",
      "source": [
        "#str\n",
        "type(\"Hello World\")"
      ],
      "metadata": {
        "colab": {
          "base_uri": "https://localhost:8080/"
        },
        "id": "IujvmlPAnTM6",
        "outputId": "5bf93244-4a3c-4e7a-e634-1c221ff4432d"
      },
      "execution_count": 3,
      "outputs": [
        {
          "output_type": "execute_result",
          "data": {
            "text/plain": [
              "str"
            ]
          },
          "metadata": {},
          "execution_count": 3
        }
      ]
    },
    {
      "cell_type": "code",
      "source": [
        "#int\n",
        "type(1)"
      ],
      "metadata": {
        "colab": {
          "base_uri": "https://localhost:8080/"
        },
        "id": "wsaj0eHBoAIN",
        "outputId": "a6b025d8-ff01-4cec-dd12-8fbb8c02c36a"
      },
      "execution_count": 4,
      "outputs": [
        {
          "output_type": "execute_result",
          "data": {
            "text/plain": [
              "int"
            ]
          },
          "metadata": {},
          "execution_count": 4
        }
      ]
    },
    {
      "cell_type": "code",
      "source": [
        "#float\n",
        "type(1.1)"
      ],
      "metadata": {
        "colab": {
          "base_uri": "https://localhost:8080/"
        },
        "id": "r2dmDVBZoFxb",
        "outputId": "df8aa192-507d-4b07-9b74-8b508245c93b"
      },
      "execution_count": 5,
      "outputs": [
        {
          "output_type": "execute_result",
          "data": {
            "text/plain": [
              "float"
            ]
          },
          "metadata": {},
          "execution_count": 5
        }
      ]
    },
    {
      "cell_type": "code",
      "source": [
        "#bool\n",
        "type(True)"
      ],
      "metadata": {
        "colab": {
          "base_uri": "https://localhost:8080/"
        },
        "id": "fdmb4JWtoLlb",
        "outputId": "37cc0022-6836-4530-b96c-7d581ef27892"
      },
      "execution_count": 6,
      "outputs": [
        {
          "output_type": "execute_result",
          "data": {
            "text/plain": [
              "bool"
            ]
          },
          "metadata": {},
          "execution_count": 6
        }
      ]
    },
    {
      "cell_type": "markdown",
      "source": [
        "**Expressions and variables**\n",
        "\n",
        "\"+\" suma\n",
        "\n",
        "\"-\" resta\n",
        "\n",
        "\"/\" División \"//\" Division redondeada\n",
        "\n",
        "\"*\" Multiplicación"
      ],
      "metadata": {
        "id": "0nmNBg_DogPm"
      }
    },
    {
      "cell_type": "markdown",
      "source": [
        "**String Operations**\n",
        "\n",
        "Variable[] len() = string lenght\n",
        "\n",
        "Usar \"\\n\" genera espacio\n",
        "\n",
        "Usar \"\\t\" para salto"
      ],
      "metadata": {
        "id": "Xv7VJHejpLUV"
      }
    },
    {
      "cell_type": "code",
      "source": [
        "#usar \"+\" para concatenar string\n",
        "a = \"a\"\n",
        "b = \"b\"\n",
        "c = a+b \n",
        "print(c)"
      ],
      "metadata": {
        "colab": {
          "base_uri": "https://localhost:8080/"
        },
        "id": "O3DhDbJOpkYG",
        "outputId": "8c54ed9e-fe2f-479e-dcef-bf7187c04ce2"
      },
      "execution_count": 7,
      "outputs": [
        {
          "output_type": "stream",
          "name": "stdout",
          "text": [
            "ab\n"
          ]
        }
      ]
    },
    {
      "cell_type": "code",
      "source": [
        "#usar \"*\" para repetir string\n",
        "d = c*2\n",
        "print(d)"
      ],
      "metadata": {
        "colab": {
          "base_uri": "https://localhost:8080/"
        },
        "id": "hd3oghpqqJos",
        "outputId": "01822ef9-4105-48c6-c311-1d3a496dc54f"
      },
      "execution_count": 8,
      "outputs": [
        {
          "output_type": "stream",
          "name": "stdout",
          "text": [
            "abab\n"
          ]
        }
      ]
    },
    {
      "cell_type": "markdown",
      "source": [
        "**MODULE 2: Lists and Tuples**"
      ],
      "metadata": {
        "id": "4lu2ca3grxPH"
      }
    },
    {
      "cell_type": "code",
      "source": [
        "# Create your first tuple\n",
        "\n",
        "tuple1 = (\"disco\",10,1.2 )\n",
        "type(tuple1)"
      ],
      "metadata": {
        "colab": {
          "base_uri": "https://localhost:8080/"
        },
        "id": "m2h30JyfqiQ-",
        "outputId": "b6941047-b9ba-4f7d-c6c5-c93853a345aa"
      },
      "execution_count": 9,
      "outputs": [
        {
          "output_type": "execute_result",
          "data": {
            "text/plain": [
              "tuple"
            ]
          },
          "metadata": {},
          "execution_count": 9
        }
      ]
    },
    {
      "cell_type": "code",
      "source": [
        "# Print the variable on each index\n",
        "\n",
        "print(tuple1[0])\n",
        "print(tuple1[1])\n",
        "print(tuple1[2])"
      ],
      "metadata": {
        "colab": {
          "base_uri": "https://localhost:8080/"
        },
        "id": "MVdbc6Qr83tg",
        "outputId": "fe17c2f4-a205-4efd-d3f5-494910d39d33"
      },
      "execution_count": 10,
      "outputs": [
        {
          "output_type": "stream",
          "name": "stdout",
          "text": [
            "disco\n",
            "10\n",
            "1.2\n"
          ]
        }
      ]
    },
    {
      "cell_type": "code",
      "source": [
        "# Print the type of value on each index\n",
        "\n",
        "print(type(tuple1[0]))\n",
        "print(type(tuple1[1]))\n",
        "print(type(tuple1[2]))"
      ],
      "metadata": {
        "colab": {
          "base_uri": "https://localhost:8080/"
        },
        "id": "__kb3ENv8869",
        "outputId": "0f13abb7-6561-4579-883b-e514c528410d"
      },
      "execution_count": 11,
      "outputs": [
        {
          "output_type": "stream",
          "name": "stdout",
          "text": [
            "<class 'str'>\n",
            "<class 'int'>\n",
            "<class 'float'>\n"
          ]
        }
      ]
    },
    {
      "cell_type": "code",
      "source": [
        "# Use negative index to get the value of the last element\n",
        "\n",
        "tuple1[-1]"
      ],
      "metadata": {
        "colab": {
          "base_uri": "https://localhost:8080/"
        },
        "id": "3zKRMTOd9C49",
        "outputId": "5cd1c4c5-8476-46e8-d98b-f36716ba8547"
      },
      "execution_count": 12,
      "outputs": [
        {
          "output_type": "execute_result",
          "data": {
            "text/plain": [
              "1.2"
            ]
          },
          "metadata": {},
          "execution_count": 12
        }
      ]
    },
    {
      "cell_type": "code",
      "source": [
        "#Concatenar tuplas\n",
        "tuple2 = tuple1 + (\"hard rock\", 10)\n",
        "print(tuple2)"
      ],
      "metadata": {
        "colab": {
          "base_uri": "https://localhost:8080/"
        },
        "id": "fySu01ua9LaZ",
        "outputId": "ce77d0fe-51d6-4146-d593-d8ccf078667f"
      },
      "execution_count": 13,
      "outputs": [
        {
          "output_type": "stream",
          "name": "stdout",
          "text": [
            "('disco', 10, 1.2, 'hard rock', 10)\n"
          ]
        }
      ]
    },
    {
      "cell_type": "markdown",
      "source": [
        "**Tuples Quiz**"
      ],
      "metadata": {
        "id": "9dpWz0bQ92ZK"
      }
    },
    {
      "cell_type": "code",
      "source": [
        "genres_tuple = (\"pop\", \"rock\", \"soul\", \"hard rock\", \"soft rock\", \\\n",
        "                \"R&B\", \"progressive rock\", \"disco\") \n",
        "print(genres_tuple)\n",
        "\n",
        "#Find the length of the tuple, genres_tuple:\n",
        "\n",
        "len(genres_tuple)\n",
        "\n"
      ],
      "metadata": {
        "id": "9Zq1RQZE97r4",
        "colab": {
          "base_uri": "https://localhost:8080/"
        },
        "outputId": "208946c7-7110-4f88-f117-7d9b822261a2"
      },
      "execution_count": 14,
      "outputs": [
        {
          "output_type": "stream",
          "name": "stdout",
          "text": [
            "('pop', 'rock', 'soul', 'hard rock', 'soft rock', 'R&B', 'progressive rock', 'disco')\n"
          ]
        },
        {
          "output_type": "execute_result",
          "data": {
            "text/plain": [
              "8"
            ]
          },
          "metadata": {},
          "execution_count": 14
        }
      ]
    },
    {
      "cell_type": "code",
      "source": [
        "#Access the element, with respect to index 3:\n",
        "\n",
        "genres_tuple[3]"
      ],
      "metadata": {
        "id": "o602gZo5-Gbv",
        "colab": {
          "base_uri": "https://localhost:8080/",
          "height": 35
        },
        "outputId": "1c2b82fb-6d44-45f2-d996-7a0bcc223c1b"
      },
      "execution_count": 15,
      "outputs": [
        {
          "output_type": "execute_result",
          "data": {
            "text/plain": [
              "'hard rock'"
            ],
            "application/vnd.google.colaboratory.intrinsic+json": {
              "type": "string"
            }
          },
          "metadata": {},
          "execution_count": 15
        }
      ]
    },
    {
      "cell_type": "code",
      "source": [
        "#Use slicing to obtain indexes 3, 4 and 5:\n",
        "\n",
        "genres_tuple[3:6]"
      ],
      "metadata": {
        "id": "Ezn0w0Dh-PGw",
        "colab": {
          "base_uri": "https://localhost:8080/"
        },
        "outputId": "c22f3a96-9db4-402d-edca-348b5a01083b"
      },
      "execution_count": 16,
      "outputs": [
        {
          "output_type": "execute_result",
          "data": {
            "text/plain": [
              "('hard rock', 'soft rock', 'R&B')"
            ]
          },
          "metadata": {},
          "execution_count": 16
        }
      ]
    },
    {
      "cell_type": "code",
      "source": [
        "#Find the first two elements of the tuple genres_tuple:\n",
        "\n",
        "genres_tuple[0:2]"
      ],
      "metadata": {
        "id": "2fwxIQwq-Sy0",
        "colab": {
          "base_uri": "https://localhost:8080/"
        },
        "outputId": "6544fc9a-7aab-47e9-e09c-db5427bca065"
      },
      "execution_count": 17,
      "outputs": [
        {
          "output_type": "execute_result",
          "data": {
            "text/plain": [
              "('pop', 'rock')"
            ]
          },
          "metadata": {},
          "execution_count": 17
        }
      ]
    },
    {
      "cell_type": "code",
      "source": [
        "#Find the first index of \"disco\":\n",
        "\n",
        "genres_tuple.index(\"disco\")"
      ],
      "metadata": {
        "id": "rzXDg7yr-Wd1",
        "colab": {
          "base_uri": "https://localhost:8080/"
        },
        "outputId": "859e90a3-8f81-41b5-ee61-5463d1c7abb3"
      },
      "execution_count": 18,
      "outputs": [
        {
          "output_type": "execute_result",
          "data": {
            "text/plain": [
              "7"
            ]
          },
          "metadata": {},
          "execution_count": 18
        }
      ]
    },
    {
      "cell_type": "code",
      "source": [
        "#Generate a sorted List from the Tuple C_tuple=(-5, 1, -3):\n",
        "\n",
        "tuple = (-5,1,-3)\n",
        "C_tuple = sorted(tuple)\n",
        "C_tuple"
      ],
      "metadata": {
        "id": "rMKoDu-p-Y5I",
        "colab": {
          "base_uri": "https://localhost:8080/"
        },
        "outputId": "9b5463c9-94d4-4c00-8a90-29a8a2068cee"
      },
      "execution_count": 19,
      "outputs": [
        {
          "output_type": "execute_result",
          "data": {
            "text/plain": [
              "[-5, -3, 1]"
            ]
          },
          "metadata": {},
          "execution_count": 19
        }
      ]
    },
    {
      "cell_type": "markdown",
      "source": [
        "**Lists Lab**"
      ],
      "metadata": {
        "id": "ors5THxk-qQQ"
      }
    },
    {
      "cell_type": "code",
      "source": [
        "#Create a list a_list, with the following elements 1, hello, [1,2,3] and True.\n",
        "a_list = [1,'hello',[1,2,3],True]\n",
        "\n",
        "print(a_list)"
      ],
      "metadata": {
        "colab": {
          "base_uri": "https://localhost:8080/"
        },
        "id": "0CEyPREu_BX8",
        "outputId": "e7b60bcc-4eec-4abf-bda3-fa35dec844e7"
      },
      "execution_count": 20,
      "outputs": [
        {
          "output_type": "stream",
          "name": "stdout",
          "text": [
            "[1, 'hello', [1, 2, 3], True]\n"
          ]
        }
      ]
    },
    {
      "cell_type": "code",
      "source": [
        "#Find the value stored at index 1 of a_list.\n",
        "a_list[1]"
      ],
      "metadata": {
        "id": "tfhUAi8t_Bgl",
        "colab": {
          "base_uri": "https://localhost:8080/",
          "height": 35
        },
        "outputId": "2b73f2d0-ffe2-45e5-b677-16ead18992f4"
      },
      "execution_count": 21,
      "outputs": [
        {
          "output_type": "execute_result",
          "data": {
            "text/plain": [
              "'hello'"
            ],
            "application/vnd.google.colaboratory.intrinsic+json": {
              "type": "string"
            }
          },
          "metadata": {},
          "execution_count": 21
        }
      ]
    },
    {
      "cell_type": "code",
      "source": [
        "#Retrieve the elements stored at index 1, 2 and 3 of a_list.\n",
        "a_list[1:4]"
      ],
      "metadata": {
        "id": "JL1ATAIU_YB1",
        "colab": {
          "base_uri": "https://localhost:8080/"
        },
        "outputId": "1a2a8c95-69b2-48aa-cfbb-d75084806780"
      },
      "execution_count": 22,
      "outputs": [
        {
          "output_type": "execute_result",
          "data": {
            "text/plain": [
              "['hello', [1, 2, 3], True]"
            ]
          },
          "metadata": {},
          "execution_count": 22
        }
      ]
    },
    {
      "cell_type": "code",
      "source": [
        "#Concatenate the following lists <code>A = \\[1, 'a']</code> and <code>B = \\[2, 1, 'd']</code>:\n",
        "\n",
        "A = [1,'a']\n",
        "B = [2,1,'d']\n",
        "C = A+B\n",
        "print(C)"
      ],
      "metadata": {
        "colab": {
          "base_uri": "https://localhost:8080/"
        },
        "id": "cS0KqgJx_bZM",
        "outputId": "a660e3f8-4373-49a0-d832-14e075895a73"
      },
      "execution_count": 23,
      "outputs": [
        {
          "output_type": "stream",
          "name": "stdout",
          "text": [
            "[1, 'a', 2, 1, 'd']\n"
          ]
        }
      ]
    },
    {
      "cell_type": "markdown",
      "source": [
        "Sets\n",
        "A set is a unique collection of objects in Python. You can denote a set with a pair of curly brackets <b>{}</b>. Python will automatically remove duplicate items:"
      ],
      "metadata": {
        "id": "W_-K1wDvAFNK"
      }
    },
    {
      "cell_type": "code",
      "source": [
        "# Create a set\n",
        "\n",
        "set1 = {\"pop\", \"rock\", \"soul\", \"hard rock\", \"rock\", \"R&B\", \"rock\", \"disco\"}\n",
        "set1"
      ],
      "metadata": {
        "colab": {
          "base_uri": "https://localhost:8080/"
        },
        "id": "hNYulLx7AKvh",
        "outputId": "8cb2a6a9-a8c9-45a9-ef72-06d18bfa0e8d"
      },
      "execution_count": 24,
      "outputs": [
        {
          "output_type": "execute_result",
          "data": {
            "text/plain": [
              "{'R&B', 'disco', 'hard rock', 'pop', 'rock', 'soul'}"
            ]
          },
          "metadata": {},
          "execution_count": 24
        }
      ]
    },
    {
      "cell_type": "code",
      "source": [
        "# Convert list to set\n",
        "\n",
        "album_list = [ \"Michael Jackson\", \"Thriller\", 1982, \"00:42:19\", \\\n",
        "              \"Pop, Rock, R&B\", 46.0, 65, \"30-Nov-82\", None, 10.0]\n",
        "album_set = set(album_list)             \n",
        "print(album_set)\n",
        "type(album_set)"
      ],
      "metadata": {
        "colab": {
          "base_uri": "https://localhost:8080/"
        },
        "id": "lfxZL-G4AaRc",
        "outputId": "50609b87-79cc-434e-c31d-74fca438661a"
      },
      "execution_count": 25,
      "outputs": [
        {
          "output_type": "stream",
          "name": "stdout",
          "text": [
            "{None, 'Michael Jackson', 65, '30-Nov-82', 10.0, 'Thriller', 46.0, '00:42:19', 'Pop, Rock, R&B', 1982}\n"
          ]
        },
        {
          "output_type": "execute_result",
          "data": {
            "text/plain": [
              "set"
            ]
          },
          "metadata": {},
          "execution_count": 25
        }
      ]
    },
    {
      "cell_type": "markdown",
      "source": [
        "**Quiz Sets**"
      ],
      "metadata": {
        "id": "vyew_Gp1BJHb"
      }
    },
    {
      "cell_type": "code",
      "source": [
        "#Convert the list ['rap','house','electronic music', 'rap'] to a set:\n",
        "\n",
        "MyList = ['rap','house','electronic music', 'rap']\n",
        "Set1 = set(MyList)\n",
        "Set1"
      ],
      "metadata": {
        "id": "yrloeR1PBIly",
        "colab": {
          "base_uri": "https://localhost:8080/"
        },
        "outputId": "bd39b4b7-755f-4885-e5b1-f4883176dea9"
      },
      "execution_count": 26,
      "outputs": [
        {
          "output_type": "execute_result",
          "data": {
            "text/plain": [
              "{'electronic music', 'house', 'rap'}"
            ]
          },
          "metadata": {},
          "execution_count": 26
        }
      ]
    },
    {
      "cell_type": "code",
      "source": [
        "#Consider the list A = [1, 2, 2, 1] and set B = set([1, 2, 2, 1]), does sum(A) == sum(B)\n",
        "\n",
        "A = [1, 2, 2, 1]\n",
        "B = set([1, 2, 2, 1])\n",
        "\n",
        "Test = sum(A)==sum(B)\n",
        "Test"
      ],
      "metadata": {
        "colab": {
          "base_uri": "https://localhost:8080/"
        },
        "id": "d76vBjN0Bby9",
        "outputId": "aea326d1-9ec6-4b12-ef34-72ebfc8e112f"
      },
      "execution_count": 27,
      "outputs": [
        {
          "output_type": "execute_result",
          "data": {
            "text/plain": [
              "False"
            ]
          },
          "metadata": {},
          "execution_count": 27
        }
      ]
    },
    {
      "cell_type": "code",
      "source": [
        "#Create a new set album_set3 that is the union of album_set1 and album_set2:\n",
        "\n",
        "album_set1 = set([\"Thriller\", 'AC/DC', 'Back in Black'])\n",
        "album_set2 = set([ \"AC/DC\", \"Back in Black\", \"The Dark Side of the Moon\"])\n",
        "\n",
        "album_set3 = album_set1.union(album_set2)\n",
        "album_set3"
      ],
      "metadata": {
        "id": "wTTpxXfkBlNP",
        "colab": {
          "base_uri": "https://localhost:8080/"
        },
        "outputId": "ba087873-4950-43a4-ba8c-90dd60d07c41"
      },
      "execution_count": 28,
      "outputs": [
        {
          "output_type": "execute_result",
          "data": {
            "text/plain": [
              "{'AC/DC', 'Back in Black', 'The Dark Side of the Moon', 'Thriller'}"
            ]
          },
          "metadata": {},
          "execution_count": 28
        }
      ]
    },
    {
      "cell_type": "code",
      "source": [
        "#Find out if <code>album_set1</code> is a subset of <code>album_set3</code>:\n",
        "\n",
        "set(album_set1).issubset(album_set3)"
      ],
      "metadata": {
        "id": "I6NYh4lhBxbN",
        "colab": {
          "base_uri": "https://localhost:8080/"
        },
        "outputId": "4db8efd0-603c-4ed4-c525-4378eaa35ea8"
      },
      "execution_count": 29,
      "outputs": [
        {
          "output_type": "execute_result",
          "data": {
            "text/plain": [
              "True"
            ]
          },
          "metadata": {},
          "execution_count": 29
        }
      ]
    },
    {
      "cell_type": "markdown",
      "source": [
        "**Dictionaries**\n",
        "You will need this dictionary for the next two questions:"
      ],
      "metadata": {
        "id": "3zqwdYoGCEfi"
      }
    },
    {
      "cell_type": "code",
      "source": [
        "# Question sample dictionary\n",
        "\n",
        "soundtrack_dic = {\"The Bodyguard\":\"1992\", \"Saturday Night Fever\":\"1977\"}\n",
        "soundtrack_dic "
      ],
      "metadata": {
        "id": "gxU7clXqCCNo",
        "colab": {
          "base_uri": "https://localhost:8080/"
        },
        "outputId": "18d72164-3af5-4e16-d766-0e2f5c0be121"
      },
      "execution_count": 30,
      "outputs": [
        {
          "output_type": "execute_result",
          "data": {
            "text/plain": [
              "{'The Bodyguard': '1992', 'Saturday Night Fever': '1977'}"
            ]
          },
          "metadata": {},
          "execution_count": 30
        }
      ]
    },
    {
      "cell_type": "code",
      "source": [
        "#a. In the dictionary soundtrack_dic what are the keys ?\n",
        "\n",
        "soundtrack_dic.keys()"
      ],
      "metadata": {
        "id": "iW1jbD1MCdKk",
        "colab": {
          "base_uri": "https://localhost:8080/"
        },
        "outputId": "e9c9f1c7-2aa2-4bf5-807d-d9f9c65a418e"
      },
      "execution_count": 31,
      "outputs": [
        {
          "output_type": "execute_result",
          "data": {
            "text/plain": [
              "dict_keys(['The Bodyguard', 'Saturday Night Fever'])"
            ]
          },
          "metadata": {},
          "execution_count": 31
        }
      ]
    },
    {
      "cell_type": "code",
      "source": [
        "#b. In the dictionary soundtrack_dic what are the values\n",
        "\n",
        "soundtrack_dic.values()"
      ],
      "metadata": {
        "id": "jEnF1aoECtjM",
        "colab": {
          "base_uri": "https://localhost:8080/"
        },
        "outputId": "a8b49ad2-14fb-4ac5-a88a-0449580617bc"
      },
      "execution_count": 32,
      "outputs": [
        {
          "output_type": "execute_result",
          "data": {
            "text/plain": [
              "dict_values(['1992', '1977'])"
            ]
          },
          "metadata": {},
          "execution_count": 32
        }
      ]
    },
    {
      "cell_type": "code",
      "source": [
        "#You will need this dictionary for the following questions:\n",
        "#The Albums Back in Black, The Bodyguard and Thriller have the following music recording sales in millions 50, 50 and 65 respectively:\n",
        "#a) Create a dictionary album_sales_dict where the keys are the album name and the sales in millions are the values.\n",
        "\n",
        "album_sales_dict = {'Back in Black': 50, 'The Bodyguard': 50, 'Thriller': 65}\n",
        "album_sales_dict"
      ],
      "metadata": {
        "id": "uxTa4XJdDNU6",
        "colab": {
          "base_uri": "https://localhost:8080/"
        },
        "outputId": "b45887e4-6442-4c9e-bce8-947d7d7cc163"
      },
      "execution_count": 33,
      "outputs": [
        {
          "output_type": "execute_result",
          "data": {
            "text/plain": [
              "{'Back in Black': 50, 'The Bodyguard': 50, 'Thriller': 65}"
            ]
          },
          "metadata": {},
          "execution_count": 33
        }
      ]
    },
    {
      "cell_type": "code",
      "source": [
        "#b) Use the dictionary to find the total sales of Thriller:\n",
        "\n",
        "album_sales_dict['Thriller']"
      ],
      "metadata": {
        "id": "g1eYtk0aDtLd",
        "colab": {
          "base_uri": "https://localhost:8080/"
        },
        "outputId": "9552b18a-561f-4a6f-d2ea-9fcd28645934"
      },
      "execution_count": 34,
      "outputs": [
        {
          "output_type": "execute_result",
          "data": {
            "text/plain": [
              "65"
            ]
          },
          "metadata": {},
          "execution_count": 34
        }
      ]
    },
    {
      "cell_type": "code",
      "source": [
        "#c) Find the names of the albums from the dictionary using the method keys():\n",
        "\n",
        "album_sales_dict.keys()"
      ],
      "metadata": {
        "id": "lzCWnpSpD7Is",
        "colab": {
          "base_uri": "https://localhost:8080/"
        },
        "outputId": "c1c9a2de-99b0-4eb5-a375-c64fed1e5bf8"
      },
      "execution_count": 35,
      "outputs": [
        {
          "output_type": "execute_result",
          "data": {
            "text/plain": [
              "dict_keys(['Back in Black', 'The Bodyguard', 'Thriller'])"
            ]
          },
          "metadata": {},
          "execution_count": 35
        }
      ]
    },
    {
      "cell_type": "code",
      "source": [
        "#d) Find the values of the recording sales from the dictionary using the method values:\n",
        "\n",
        "album_sales_dict.values()"
      ],
      "metadata": {
        "id": "gJ4FcRMCEEDO",
        "colab": {
          "base_uri": "https://localhost:8080/"
        },
        "outputId": "6dbcfb08-eb5c-4127-a8d7-8430c9ffdfc3"
      },
      "execution_count": 36,
      "outputs": [
        {
          "output_type": "execute_result",
          "data": {
            "text/plain": [
              "dict_values([50, 50, 65])"
            ]
          },
          "metadata": {},
          "execution_count": 36
        }
      ]
    },
    {
      "cell_type": "markdown",
      "source": [
        "**MODULE 3: Python fundamentals**\n",
        "\n",
        "**Conditions and branching**"
      ],
      "metadata": {
        "id": "GvglJt4OEp5L"
      }
    },
    {
      "cell_type": "code",
      "source": [
        "#Write an if statement to determine if an album had a rating greater than 8. \n",
        "#Test it using the rating for the album “Back in Black” that had a rating of 8.5. If the statement is true print \"This album is Amazing!\"\n",
        "\n",
        "rating = 8.5\n",
        "\n",
        "if(rating>8):\n",
        "    print('This album is Amazing¡')"
      ],
      "metadata": {
        "id": "6hhWndpQGay6",
        "colab": {
          "base_uri": "https://localhost:8080/"
        },
        "outputId": "02c91347-d640-48f1-a177-cac8cea75a5e"
      },
      "execution_count": 37,
      "outputs": [
        {
          "output_type": "stream",
          "name": "stdout",
          "text": [
            "This album is Amazing¡\n"
          ]
        }
      ]
    },
    {
      "cell_type": "code",
      "source": [
        "#Write an if-else statement that performs the following. If the rating is larger then eight print “this album is amazing”.\n",
        "#If the rating is less than or equal to 8 print “this album is ok”.\n",
        "\n",
        "if(rating>8):\n",
        "    print('This album is Amazing¡')\n",
        "elif(rating<=8):\n",
        "    print('This album is ok')"
      ],
      "metadata": {
        "id": "OkjyokrsHAEC",
        "colab": {
          "base_uri": "https://localhost:8080/"
        },
        "outputId": "04485550-d9be-4231-9f12-dde4aef52f35"
      },
      "execution_count": 38,
      "outputs": [
        {
          "output_type": "stream",
          "name": "stdout",
          "text": [
            "This album is Amazing¡\n"
          ]
        }
      ]
    },
    {
      "cell_type": "code",
      "source": [
        "#Write an if statement to determine if an album came out before 1980 or in the years: 1991 or 1993. \n",
        "#If the condition is true print out the year the album came out.\n",
        "\n",
        "Year = 1991\n",
        "\n",
        "if(Year < 1980) or(Year == 1991) or(Year== 1993):\n",
        "  print('The album came out in ' + str(Year))"
      ],
      "metadata": {
        "id": "P5I5KXiNHFfU",
        "colab": {
          "base_uri": "https://localhost:8080/"
        },
        "outputId": "beda7083-2c79-412f-b750-8da9c8d02f6b"
      },
      "execution_count": 39,
      "outputs": [
        {
          "output_type": "stream",
          "name": "stdout",
          "text": [
            "The album came out in 1991\n"
          ]
        }
      ]
    },
    {
      "cell_type": "markdown",
      "source": [
        "**Loops**"
      ],
      "metadata": {
        "id": "2AEI_6PSHN2Z"
      }
    },
    {
      "cell_type": "code",
      "source": [
        "#Write a for loop the prints out all the element between -5 and 5 using the range function.\n",
        "\n",
        "for i in range(-4,5):\n",
        "  print(i)"
      ],
      "metadata": {
        "colab": {
          "base_uri": "https://localhost:8080/"
        },
        "id": "-0OnH1x3HNUN",
        "outputId": "6f452237-7a65-4b08-fab5-fbb9f05d5efd"
      },
      "execution_count": 40,
      "outputs": [
        {
          "output_type": "stream",
          "name": "stdout",
          "text": [
            "-4\n",
            "-3\n",
            "-2\n",
            "-1\n",
            "0\n",
            "1\n",
            "2\n",
            "3\n",
            "4\n"
          ]
        }
      ]
    },
    {
      "cell_type": "code",
      "source": [
        "#Print the elements of the following list: Genres=[ 'rock', 'R&B', 'Soundtrack', 'R&B', 'soul', 'pop'] Make sure you follow Python conventions.\n",
        "\n",
        "Genres=[ 'rock', 'R&B', 'Soundtrack', 'R&B', 'soul', 'pop']\n",
        "\n",
        "for allgenres in Genres:\n",
        "  print(allgenres)"
      ],
      "metadata": {
        "id": "553ThOHPIZl6",
        "colab": {
          "base_uri": "https://localhost:8080/"
        },
        "outputId": "0f1db9b6-3270-464b-80c9-93098da88921"
      },
      "execution_count": 41,
      "outputs": [
        {
          "output_type": "stream",
          "name": "stdout",
          "text": [
            "rock\n",
            "R&B\n",
            "Soundtrack\n",
            "R&B\n",
            "soul\n",
            "pop\n"
          ]
        }
      ]
    },
    {
      "cell_type": "code",
      "source": [
        "#Write a for loop that prints out the following list: squares=['red', 'yellow', 'green', 'purple', 'blue']\n",
        "\n",
        "squares=['red', 'yellow', 'green', 'purple', 'blue']\n",
        "\n",
        "for allsquares in squares:\n",
        "   print(allsquares)"
      ],
      "metadata": {
        "id": "kL8FHnMmIi2J",
        "colab": {
          "base_uri": "https://localhost:8080/"
        },
        "outputId": "0bfef3ba-49b9-490c-da88-2ab3e4d2672c"
      },
      "execution_count": 42,
      "outputs": [
        {
          "output_type": "stream",
          "name": "stdout",
          "text": [
            "red\n",
            "yellow\n",
            "green\n",
            "purple\n",
            "blue\n"
          ]
        }
      ]
    },
    {
      "cell_type": "code",
      "source": [
        "#Write a while loop to display the values of the Rating of an album playlist stored in the list PlayListRatings. \n",
        "#If the score is less than 6, exit the loop. The list PlayListRatings is given by: PlayListRatings = [10, 9.5, 10, 8, 7.5, 5, 10, 10]\n",
        "\n",
        "PlayListRatings = [10, 9.5, 10, 8, 7.5, 5, 10, 10]\n",
        "\n",
        "i=0\n",
        "\n",
        "while (PlayListRatings[i] > 6):\n",
        "  print(PlayListRatings[i])\n",
        "  i = i+1"
      ],
      "metadata": {
        "id": "wO9PT8dDIm0X",
        "colab": {
          "base_uri": "https://localhost:8080/"
        },
        "outputId": "219409e5-ff29-430e-ff7f-4bb2c9c7f7e5"
      },
      "execution_count": 43,
      "outputs": [
        {
          "output_type": "stream",
          "name": "stdout",
          "text": [
            "10\n",
            "9.5\n",
            "10\n",
            "8\n",
            "7.5\n"
          ]
        }
      ]
    },
    {
      "cell_type": "code",
      "source": [
        "#Write a while loop to copy the strings 'orange' of the list squares to the list new_squares. \n",
        "#Stop and exit the loop if the value on the list is not 'orange':\n",
        "\n",
        "squares = ['orange', 'orange', 'purple', 'blue ', 'orange']\n",
        "new_squares = []\n",
        "\n",
        "i=0\n",
        "\n",
        "while (squares[i] == 'orange'):\n",
        "  new_squares.append(squares[i])\n",
        "  i=i+1\n",
        "\n",
        "new_squares"
      ],
      "metadata": {
        "id": "m2kRFEk6Iq3k",
        "colab": {
          "base_uri": "https://localhost:8080/"
        },
        "outputId": "6c1e2f8b-79dc-4a57-bbb8-04473c91f2df"
      },
      "execution_count": 44,
      "outputs": [
        {
          "output_type": "execute_result",
          "data": {
            "text/plain": [
              "['orange', 'orange']"
            ]
          },
          "metadata": {},
          "execution_count": 44
        }
      ]
    }
  ]
}
