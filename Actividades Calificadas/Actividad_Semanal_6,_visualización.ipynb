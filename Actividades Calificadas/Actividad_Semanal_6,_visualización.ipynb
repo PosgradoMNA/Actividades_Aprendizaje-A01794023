{
  "nbformat": 4,
  "nbformat_minor": 0,
  "metadata": {
    "colab": {
      "provenance": [],
      "collapsed_sections": [],
      "authorship_tag": "ABX9TyO95++VxIVt64tUAsvyOLy1",
      "include_colab_link": true
    },
    "kernelspec": {
      "name": "python3",
      "display_name": "Python 3"
    },
    "language_info": {
      "name": "python"
    }
  },
  "cells": [
    {
      "cell_type": "markdown",
      "metadata": {
        "id": "view-in-github",
        "colab_type": "text"
      },
      "source": [
        "<a href=\"https://colab.research.google.com/github/PosgradoMNA/Actividades_Aprendizaje-A01794023-Andres_Palacios/blob/main/Actividad_Semanal_6%2C_visualizaci%C3%B3n.ipynb\" target=\"_parent\"><img src=\"https://colab.research.google.com/assets/colab-badge.svg\" alt=\"Open In Colab\"/></a>"
      ]
    },
    {
      "cell_type": "markdown",
      "source": [
        "##**Actividad Semanal - 4**\n",
        "##**Maestría en Inteligencia Artificial Aplicada**\n",
        "##**Curso: Ciencia y analítica de datos**\n",
        "##**Tecnológico de Monterrey**\n",
        "##**Fecha: 2 de noviembre del 2022**\n",
        "##**Nombre del estudiante: Jaime Andres Palacios Campaña**\n",
        "##**Matrícula: A01794023**"
      ],
      "metadata": {
        "id": "vW9Xh7ZXfd25"
      }
    },
    {
      "cell_type": "markdown",
      "source": [
        "**Información del dataset**\n",
        "\n",
        "Basados en el documento de información de el dataset, podemos observar que que la información encontrada apunta al caso de los pagos predeterminados de los clientes en Taiwán y compara la precisión predictiva de la probabilidad de incumplimiento. Arrojando como resultado la precisión predictiva de la probabilidad de incumplimiento estimada en resultado binario de la clasificación: clientes creíbles o no creíbles.\n",
        "\n",
        "**Información de los atributos:**\n",
        "\n",
        "Esta investigación empleó una variable binaria, pago por defecto (Sí = 1, No = 0), como variable de respuesta. Este estudio utilizó las siguientes 23 variables como variables explicativas:\n",
        "\n",
        "*   X1: Monto del crédito otorgado (dólar NT): incluye tanto el crédito de consumo individual como su crédito familiar (complementario).\n",
        "*   X2: Género (1 = masculino; 2 = femenino).\n",
        "*   X3: Educación (1 = posgrado; 2 = universidad; 3 = secundaria; 4 = otros).\n",
        "*   X4: Estado civil (1 = casado; 2 = soltero; 3 = otros).\n",
        "*   X5: Edad (año).\n",
        "*   X6 - X11: Historial de pagos pasados. Hicimos un seguimiento de los registros de pagos mensuales pasados ​​(de abril a septiembre de 2005) de la siguiente manera: X6 = el estado de pago en septiembre de 2005; X7 = el estado de pago en agosto de 2005; . . .;X11 = estado de amortización en abril de 2005. La escala de medición del estado de amortización es: -1 = pagar debidamente; 1 = retraso en el pago de un mes; 2 = retraso en el pago de dos meses; . . .; 8 = retraso en el pago de ocho meses; 9 = retraso en el pago de nueve meses o más.\n",
        "*   X12-X17: Importe del estado de cuenta (dólar NT). X12 = monto del estado de cuenta en septiembre de 2005; X13 = monto del estado de cuenta en agosto de 2005; . . .; X17 = monto del estado de cuenta en abril de 2005.\n",
        "*   X18-X23: Monto del pago anterior (dólar NT). X18 = monto pagado en septiembre de 2005; X19 = monto pagado en agosto de 2005; . . .;X23 = monto pagado en abril de 2005."
      ],
      "metadata": {
        "id": "DnNNszs9S3jC"
      }
    },
    {
      "cell_type": "code",
      "source": [
        "import pandas as pd\n",
        "import numpy as np\n",
        "import seaborn as sns\n",
        "import matplotlib.pyplot as plt\n",
        "\n",
        "from sklearn.decomposition import PCA\n",
        "from sklearn.preprocessing import StandardScaler\n",
        "from sklearn.preprocessing import MinMaxScaler"
      ],
      "metadata": {
        "id": "ENCzeUSE2A26"
      },
      "execution_count": 1,
      "outputs": []
    },
    {
      "cell_type": "markdown",
      "source": [
        "Iniciamos ingresando el dataset, eliminando la columna ID ya que no es relevante para lo propuesto de esta actividad. Seguido de un analisis de las variables."
      ],
      "metadata": {
        "id": "zswSo6DQSpZk"
      }
    },
    {
      "cell_type": "code",
      "execution_count": 2,
      "metadata": {
        "colab": {
          "base_uri": "https://localhost:8080/",
          "height": 930
        },
        "id": "8hxO_smZkPxm",
        "outputId": "f2030eef-e4a3-48bd-b449-ed912c87bbab"
      },
      "outputs": [
        {
          "output_type": "stream",
          "name": "stdout",
          "text": [
            "<class 'pandas.core.frame.DataFrame'>\n",
            "Int64Index: 30000 entries, 1 to 30000\n",
            "Data columns (total 24 columns):\n",
            " #   Column  Non-Null Count  Dtype  \n",
            "---  ------  --------------  -----  \n",
            " 0   X1      30000 non-null  int64  \n",
            " 1   X2      29999 non-null  float64\n",
            " 2   X3      29998 non-null  float64\n",
            " 3   X4      29998 non-null  float64\n",
            " 4   X5      29995 non-null  float64\n",
            " 5   X6      29997 non-null  float64\n",
            " 6   X7      29995 non-null  float64\n",
            " 7   X8      29993 non-null  float64\n",
            " 8   X9      29991 non-null  float64\n",
            " 9   X10     29984 non-null  float64\n",
            " 10  X11     29986 non-null  float64\n",
            " 11  X12     29989 non-null  float64\n",
            " 12  X13     29989 non-null  float64\n",
            " 13  X14     29987 non-null  float64\n",
            " 14  X15     29985 non-null  float64\n",
            " 15  X16     29983 non-null  float64\n",
            " 16  X17     29990 non-null  float64\n",
            " 17  X18     29992 non-null  float64\n",
            " 18  X19     29991 non-null  float64\n",
            " 19  X20     29992 non-null  float64\n",
            " 20  X21     29989 non-null  float64\n",
            " 21  X22     29989 non-null  float64\n",
            " 22  X23     29995 non-null  float64\n",
            " 23  Y       29997 non-null  float64\n",
            "dtypes: float64(23), int64(1)\n",
            "memory usage: 5.7 MB\n"
          ]
        },
        {
          "output_type": "execute_result",
          "data": {
            "text/plain": [
              "           X1   X2   X3   X4    X5   X6   X7   X8   X9  X10  ...       X15  \\\n",
              "22779  390000  2.0  1.0  2.0  33.0  0.0  0.0  0.0  0.0  0.0  ...   82853.0   \n",
              "28158  130000  2.0  3.0  1.0  31.0  0.0 -1.0 -1.0 -1.0 -1.0  ...   -1018.0   \n",
              "27926  360000  2.0  1.0  2.0  26.0  2.0  2.0 -2.0 -2.0 -2.0  ...       0.0   \n",
              "17067  100000  2.0  2.0  2.0  24.0  0.0  0.0  0.0  0.0 -1.0  ...   17716.0   \n",
              "1177    50000  2.0  2.0  2.0  35.0  0.0  0.0  0.0  0.0  0.0  ...   17056.0   \n",
              "20994  200000  1.0  1.0  1.0  47.0  1.0  2.0  2.0  0.0  0.0  ...  166515.0   \n",
              "7747   170000  2.0  1.0  1.0  31.0  1.0 -2.0 -2.0 -2.0 -2.0  ...       0.0   \n",
              "20153  260000  2.0  2.0  1.0  45.0  0.0  0.0  0.0  0.0  0.0  ...  163477.0   \n",
              "28045  190000  2.0  1.0  2.0  28.0  0.0  0.0  0.0  0.0  0.0  ...  151905.0   \n",
              "25222  130000  2.0  3.0  2.0  24.0  0.0  0.0  0.0  0.0  0.0  ...   57434.0   \n",
              "\n",
              "            X16       X17      X18      X19      X20      X21     X22     X23  \\\n",
              "22779   82747.0   44143.0   5000.0   3500.0   4502.0   3518.0  2003.0  3001.0   \n",
              "28158   89445.0   90179.0   4065.0   6704.0  21018.0  92610.0  3272.0  3332.0   \n",
              "27926       0.0       0.0      0.0      0.0      0.0      0.0     0.0     0.0   \n",
              "17067    1002.0    1518.0   1439.0   2000.0  10070.0   1002.0  1000.0   500.0   \n",
              "1177    17581.0   18089.0   1700.0   1300.0    900.0    800.0   800.0   900.0   \n",
              "20994  163673.0  145683.0   8013.0     13.0   8684.0   5500.0  7437.0  4600.0   \n",
              "7747        0.0       0.0      0.0      0.0      0.0      0.0     0.0     0.0   \n",
              "20153  139993.0  133197.0  15521.0  10005.0   7000.0   5500.0  5000.0  4000.0   \n",
              "28045  153538.0  156664.0   5618.0   5795.0   7408.0   5645.0  5753.0  6370.0   \n",
              "25222   58593.0   60504.0   4600.0   4500.0   2802.0   2050.0  2800.0  2300.0   \n",
              "\n",
              "         Y  \n",
              "22779  0.0  \n",
              "28158  1.0  \n",
              "27926  0.0  \n",
              "17067  0.0  \n",
              "1177   0.0  \n",
              "20994  1.0  \n",
              "7747   0.0  \n",
              "20153  0.0  \n",
              "28045  0.0  \n",
              "25222  1.0  \n",
              "\n",
              "[10 rows x 24 columns]"
            ],
            "text/html": [
              "\n",
              "  <div id=\"df-cb5b87a7-716d-4426-94d2-a5938ef644e5\">\n",
              "    <div class=\"colab-df-container\">\n",
              "      <div>\n",
              "<style scoped>\n",
              "    .dataframe tbody tr th:only-of-type {\n",
              "        vertical-align: middle;\n",
              "    }\n",
              "\n",
              "    .dataframe tbody tr th {\n",
              "        vertical-align: top;\n",
              "    }\n",
              "\n",
              "    .dataframe thead th {\n",
              "        text-align: right;\n",
              "    }\n",
              "</style>\n",
              "<table border=\"1\" class=\"dataframe\">\n",
              "  <thead>\n",
              "    <tr style=\"text-align: right;\">\n",
              "      <th></th>\n",
              "      <th>X1</th>\n",
              "      <th>X2</th>\n",
              "      <th>X3</th>\n",
              "      <th>X4</th>\n",
              "      <th>X5</th>\n",
              "      <th>X6</th>\n",
              "      <th>X7</th>\n",
              "      <th>X8</th>\n",
              "      <th>X9</th>\n",
              "      <th>X10</th>\n",
              "      <th>...</th>\n",
              "      <th>X15</th>\n",
              "      <th>X16</th>\n",
              "      <th>X17</th>\n",
              "      <th>X18</th>\n",
              "      <th>X19</th>\n",
              "      <th>X20</th>\n",
              "      <th>X21</th>\n",
              "      <th>X22</th>\n",
              "      <th>X23</th>\n",
              "      <th>Y</th>\n",
              "    </tr>\n",
              "  </thead>\n",
              "  <tbody>\n",
              "    <tr>\n",
              "      <th>22779</th>\n",
              "      <td>390000</td>\n",
              "      <td>2.0</td>\n",
              "      <td>1.0</td>\n",
              "      <td>2.0</td>\n",
              "      <td>33.0</td>\n",
              "      <td>0.0</td>\n",
              "      <td>0.0</td>\n",
              "      <td>0.0</td>\n",
              "      <td>0.0</td>\n",
              "      <td>0.0</td>\n",
              "      <td>...</td>\n",
              "      <td>82853.0</td>\n",
              "      <td>82747.0</td>\n",
              "      <td>44143.0</td>\n",
              "      <td>5000.0</td>\n",
              "      <td>3500.0</td>\n",
              "      <td>4502.0</td>\n",
              "      <td>3518.0</td>\n",
              "      <td>2003.0</td>\n",
              "      <td>3001.0</td>\n",
              "      <td>0.0</td>\n",
              "    </tr>\n",
              "    <tr>\n",
              "      <th>28158</th>\n",
              "      <td>130000</td>\n",
              "      <td>2.0</td>\n",
              "      <td>3.0</td>\n",
              "      <td>1.0</td>\n",
              "      <td>31.0</td>\n",
              "      <td>0.0</td>\n",
              "      <td>-1.0</td>\n",
              "      <td>-1.0</td>\n",
              "      <td>-1.0</td>\n",
              "      <td>-1.0</td>\n",
              "      <td>...</td>\n",
              "      <td>-1018.0</td>\n",
              "      <td>89445.0</td>\n",
              "      <td>90179.0</td>\n",
              "      <td>4065.0</td>\n",
              "      <td>6704.0</td>\n",
              "      <td>21018.0</td>\n",
              "      <td>92610.0</td>\n",
              "      <td>3272.0</td>\n",
              "      <td>3332.0</td>\n",
              "      <td>1.0</td>\n",
              "    </tr>\n",
              "    <tr>\n",
              "      <th>27926</th>\n",
              "      <td>360000</td>\n",
              "      <td>2.0</td>\n",
              "      <td>1.0</td>\n",
              "      <td>2.0</td>\n",
              "      <td>26.0</td>\n",
              "      <td>2.0</td>\n",
              "      <td>2.0</td>\n",
              "      <td>-2.0</td>\n",
              "      <td>-2.0</td>\n",
              "      <td>-2.0</td>\n",
              "      <td>...</td>\n",
              "      <td>0.0</td>\n",
              "      <td>0.0</td>\n",
              "      <td>0.0</td>\n",
              "      <td>0.0</td>\n",
              "      <td>0.0</td>\n",
              "      <td>0.0</td>\n",
              "      <td>0.0</td>\n",
              "      <td>0.0</td>\n",
              "      <td>0.0</td>\n",
              "      <td>0.0</td>\n",
              "    </tr>\n",
              "    <tr>\n",
              "      <th>17067</th>\n",
              "      <td>100000</td>\n",
              "      <td>2.0</td>\n",
              "      <td>2.0</td>\n",
              "      <td>2.0</td>\n",
              "      <td>24.0</td>\n",
              "      <td>0.0</td>\n",
              "      <td>0.0</td>\n",
              "      <td>0.0</td>\n",
              "      <td>0.0</td>\n",
              "      <td>-1.0</td>\n",
              "      <td>...</td>\n",
              "      <td>17716.0</td>\n",
              "      <td>1002.0</td>\n",
              "      <td>1518.0</td>\n",
              "      <td>1439.0</td>\n",
              "      <td>2000.0</td>\n",
              "      <td>10070.0</td>\n",
              "      <td>1002.0</td>\n",
              "      <td>1000.0</td>\n",
              "      <td>500.0</td>\n",
              "      <td>0.0</td>\n",
              "    </tr>\n",
              "    <tr>\n",
              "      <th>1177</th>\n",
              "      <td>50000</td>\n",
              "      <td>2.0</td>\n",
              "      <td>2.0</td>\n",
              "      <td>2.0</td>\n",
              "      <td>35.0</td>\n",
              "      <td>0.0</td>\n",
              "      <td>0.0</td>\n",
              "      <td>0.0</td>\n",
              "      <td>0.0</td>\n",
              "      <td>0.0</td>\n",
              "      <td>...</td>\n",
              "      <td>17056.0</td>\n",
              "      <td>17581.0</td>\n",
              "      <td>18089.0</td>\n",
              "      <td>1700.0</td>\n",
              "      <td>1300.0</td>\n",
              "      <td>900.0</td>\n",
              "      <td>800.0</td>\n",
              "      <td>800.0</td>\n",
              "      <td>900.0</td>\n",
              "      <td>0.0</td>\n",
              "    </tr>\n",
              "    <tr>\n",
              "      <th>20994</th>\n",
              "      <td>200000</td>\n",
              "      <td>1.0</td>\n",
              "      <td>1.0</td>\n",
              "      <td>1.0</td>\n",
              "      <td>47.0</td>\n",
              "      <td>1.0</td>\n",
              "      <td>2.0</td>\n",
              "      <td>2.0</td>\n",
              "      <td>0.0</td>\n",
              "      <td>0.0</td>\n",
              "      <td>...</td>\n",
              "      <td>166515.0</td>\n",
              "      <td>163673.0</td>\n",
              "      <td>145683.0</td>\n",
              "      <td>8013.0</td>\n",
              "      <td>13.0</td>\n",
              "      <td>8684.0</td>\n",
              "      <td>5500.0</td>\n",
              "      <td>7437.0</td>\n",
              "      <td>4600.0</td>\n",
              "      <td>1.0</td>\n",
              "    </tr>\n",
              "    <tr>\n",
              "      <th>7747</th>\n",
              "      <td>170000</td>\n",
              "      <td>2.0</td>\n",
              "      <td>1.0</td>\n",
              "      <td>1.0</td>\n",
              "      <td>31.0</td>\n",
              "      <td>1.0</td>\n",
              "      <td>-2.0</td>\n",
              "      <td>-2.0</td>\n",
              "      <td>-2.0</td>\n",
              "      <td>-2.0</td>\n",
              "      <td>...</td>\n",
              "      <td>0.0</td>\n",
              "      <td>0.0</td>\n",
              "      <td>0.0</td>\n",
              "      <td>0.0</td>\n",
              "      <td>0.0</td>\n",
              "      <td>0.0</td>\n",
              "      <td>0.0</td>\n",
              "      <td>0.0</td>\n",
              "      <td>0.0</td>\n",
              "      <td>0.0</td>\n",
              "    </tr>\n",
              "    <tr>\n",
              "      <th>20153</th>\n",
              "      <td>260000</td>\n",
              "      <td>2.0</td>\n",
              "      <td>2.0</td>\n",
              "      <td>1.0</td>\n",
              "      <td>45.0</td>\n",
              "      <td>0.0</td>\n",
              "      <td>0.0</td>\n",
              "      <td>0.0</td>\n",
              "      <td>0.0</td>\n",
              "      <td>0.0</td>\n",
              "      <td>...</td>\n",
              "      <td>163477.0</td>\n",
              "      <td>139993.0</td>\n",
              "      <td>133197.0</td>\n",
              "      <td>15521.0</td>\n",
              "      <td>10005.0</td>\n",
              "      <td>7000.0</td>\n",
              "      <td>5500.0</td>\n",
              "      <td>5000.0</td>\n",
              "      <td>4000.0</td>\n",
              "      <td>0.0</td>\n",
              "    </tr>\n",
              "    <tr>\n",
              "      <th>28045</th>\n",
              "      <td>190000</td>\n",
              "      <td>2.0</td>\n",
              "      <td>1.0</td>\n",
              "      <td>2.0</td>\n",
              "      <td>28.0</td>\n",
              "      <td>0.0</td>\n",
              "      <td>0.0</td>\n",
              "      <td>0.0</td>\n",
              "      <td>0.0</td>\n",
              "      <td>0.0</td>\n",
              "      <td>...</td>\n",
              "      <td>151905.0</td>\n",
              "      <td>153538.0</td>\n",
              "      <td>156664.0</td>\n",
              "      <td>5618.0</td>\n",
              "      <td>5795.0</td>\n",
              "      <td>7408.0</td>\n",
              "      <td>5645.0</td>\n",
              "      <td>5753.0</td>\n",
              "      <td>6370.0</td>\n",
              "      <td>0.0</td>\n",
              "    </tr>\n",
              "    <tr>\n",
              "      <th>25222</th>\n",
              "      <td>130000</td>\n",
              "      <td>2.0</td>\n",
              "      <td>3.0</td>\n",
              "      <td>2.0</td>\n",
              "      <td>24.0</td>\n",
              "      <td>0.0</td>\n",
              "      <td>0.0</td>\n",
              "      <td>0.0</td>\n",
              "      <td>0.0</td>\n",
              "      <td>0.0</td>\n",
              "      <td>...</td>\n",
              "      <td>57434.0</td>\n",
              "      <td>58593.0</td>\n",
              "      <td>60504.0</td>\n",
              "      <td>4600.0</td>\n",
              "      <td>4500.0</td>\n",
              "      <td>2802.0</td>\n",
              "      <td>2050.0</td>\n",
              "      <td>2800.0</td>\n",
              "      <td>2300.0</td>\n",
              "      <td>1.0</td>\n",
              "    </tr>\n",
              "  </tbody>\n",
              "</table>\n",
              "<p>10 rows × 24 columns</p>\n",
              "</div>\n",
              "      <button class=\"colab-df-convert\" onclick=\"convertToInteractive('df-cb5b87a7-716d-4426-94d2-a5938ef644e5')\"\n",
              "              title=\"Convert this dataframe to an interactive table.\"\n",
              "              style=\"display:none;\">\n",
              "        \n",
              "  <svg xmlns=\"http://www.w3.org/2000/svg\" height=\"24px\"viewBox=\"0 0 24 24\"\n",
              "       width=\"24px\">\n",
              "    <path d=\"M0 0h24v24H0V0z\" fill=\"none\"/>\n",
              "    <path d=\"M18.56 5.44l.94 2.06.94-2.06 2.06-.94-2.06-.94-.94-2.06-.94 2.06-2.06.94zm-11 1L8.5 8.5l.94-2.06 2.06-.94-2.06-.94L8.5 2.5l-.94 2.06-2.06.94zm10 10l.94 2.06.94-2.06 2.06-.94-2.06-.94-.94-2.06-.94 2.06-2.06.94z\"/><path d=\"M17.41 7.96l-1.37-1.37c-.4-.4-.92-.59-1.43-.59-.52 0-1.04.2-1.43.59L10.3 9.45l-7.72 7.72c-.78.78-.78 2.05 0 2.83L4 21.41c.39.39.9.59 1.41.59.51 0 1.02-.2 1.41-.59l7.78-7.78 2.81-2.81c.8-.78.8-2.07 0-2.86zM5.41 20L4 18.59l7.72-7.72 1.47 1.35L5.41 20z\"/>\n",
              "  </svg>\n",
              "      </button>\n",
              "      \n",
              "  <style>\n",
              "    .colab-df-container {\n",
              "      display:flex;\n",
              "      flex-wrap:wrap;\n",
              "      gap: 12px;\n",
              "    }\n",
              "\n",
              "    .colab-df-convert {\n",
              "      background-color: #E8F0FE;\n",
              "      border: none;\n",
              "      border-radius: 50%;\n",
              "      cursor: pointer;\n",
              "      display: none;\n",
              "      fill: #1967D2;\n",
              "      height: 32px;\n",
              "      padding: 0 0 0 0;\n",
              "      width: 32px;\n",
              "    }\n",
              "\n",
              "    .colab-df-convert:hover {\n",
              "      background-color: #E2EBFA;\n",
              "      box-shadow: 0px 1px 2px rgba(60, 64, 67, 0.3), 0px 1px 3px 1px rgba(60, 64, 67, 0.15);\n",
              "      fill: #174EA6;\n",
              "    }\n",
              "\n",
              "    [theme=dark] .colab-df-convert {\n",
              "      background-color: #3B4455;\n",
              "      fill: #D2E3FC;\n",
              "    }\n",
              "\n",
              "    [theme=dark] .colab-df-convert:hover {\n",
              "      background-color: #434B5C;\n",
              "      box-shadow: 0px 1px 3px 1px rgba(0, 0, 0, 0.15);\n",
              "      filter: drop-shadow(0px 1px 2px rgba(0, 0, 0, 0.3));\n",
              "      fill: #FFFFFF;\n",
              "    }\n",
              "  </style>\n",
              "\n",
              "      <script>\n",
              "        const buttonEl =\n",
              "          document.querySelector('#df-cb5b87a7-716d-4426-94d2-a5938ef644e5 button.colab-df-convert');\n",
              "        buttonEl.style.display =\n",
              "          google.colab.kernel.accessAllowed ? 'block' : 'none';\n",
              "\n",
              "        async function convertToInteractive(key) {\n",
              "          const element = document.querySelector('#df-cb5b87a7-716d-4426-94d2-a5938ef644e5');\n",
              "          const dataTable =\n",
              "            await google.colab.kernel.invokeFunction('convertToInteractive',\n",
              "                                                     [key], {});\n",
              "          if (!dataTable) return;\n",
              "\n",
              "          const docLinkHtml = 'Like what you see? Visit the ' +\n",
              "            '<a target=\"_blank\" href=https://colab.research.google.com/notebooks/data_table.ipynb>data table notebook</a>'\n",
              "            + ' to learn more about interactive tables.';\n",
              "          element.innerHTML = '';\n",
              "          dataTable['output_type'] = 'display_data';\n",
              "          await google.colab.output.renderOutput(dataTable, element);\n",
              "          const docLink = document.createElement('div');\n",
              "          docLink.innerHTML = docLinkHtml;\n",
              "          element.appendChild(docLink);\n",
              "        }\n",
              "      </script>\n",
              "    </div>\n",
              "  </div>\n",
              "  "
            ]
          },
          "metadata": {},
          "execution_count": 2
        }
      ],
      "source": [
        "path = 'https://raw.githubusercontent.com/PosgradoMNA/Actividades_Aprendizaje-/main/default%20of%20credit%20card%20clients.csv'\n",
        "\n",
        "path_df = pd.read_csv(path,\n",
        "                      index_col=0 #este parametro nos permite eliminar lo datos de la columna ID ya que no es necesaria\n",
        "                      )\n",
        "\n",
        "path_df.index.name = None #Esto nos permite eliminar el titulo de la columna ID\n",
        "\n",
        "#Copiamos el dataframe con los datos originales para tener su backup.\n",
        "data_df = path_df.copy()\n",
        "\n",
        "data_df.info()\n",
        "data_df.sample(10)"
      ]
    },
    {
      "cell_type": "markdown",
      "source": [
        "Nos llevamos todos los valores vacíos. De lo contrario, nos va a dar un error cuando apliquemos el PCA."
      ],
      "metadata": {
        "id": "gsEd1pbRVCAI"
      }
    },
    {
      "cell_type": "code",
      "source": [
        "data_df.dropna(axis = 0, inplace=True)\n",
        "\n",
        "data_df.info()"
      ],
      "metadata": {
        "colab": {
          "base_uri": "https://localhost:8080/"
        },
        "id": "rN9P9CdHoE4E",
        "outputId": "17c27004-aab5-46e3-adef-ce65edef004a"
      },
      "execution_count": 3,
      "outputs": [
        {
          "output_type": "stream",
          "name": "stdout",
          "text": [
            "<class 'pandas.core.frame.DataFrame'>\n",
            "Int64Index: 29958 entries, 1 to 30000\n",
            "Data columns (total 24 columns):\n",
            " #   Column  Non-Null Count  Dtype  \n",
            "---  ------  --------------  -----  \n",
            " 0   X1      29958 non-null  int64  \n",
            " 1   X2      29958 non-null  float64\n",
            " 2   X3      29958 non-null  float64\n",
            " 3   X4      29958 non-null  float64\n",
            " 4   X5      29958 non-null  float64\n",
            " 5   X6      29958 non-null  float64\n",
            " 6   X7      29958 non-null  float64\n",
            " 7   X8      29958 non-null  float64\n",
            " 8   X9      29958 non-null  float64\n",
            " 9   X10     29958 non-null  float64\n",
            " 10  X11     29958 non-null  float64\n",
            " 11  X12     29958 non-null  float64\n",
            " 12  X13     29958 non-null  float64\n",
            " 13  X14     29958 non-null  float64\n",
            " 14  X15     29958 non-null  float64\n",
            " 15  X16     29958 non-null  float64\n",
            " 16  X17     29958 non-null  float64\n",
            " 17  X18     29958 non-null  float64\n",
            " 18  X19     29958 non-null  float64\n",
            " 19  X20     29958 non-null  float64\n",
            " 20  X21     29958 non-null  float64\n",
            " 21  X22     29958 non-null  float64\n",
            " 22  X23     29958 non-null  float64\n",
            " 23  Y       29958 non-null  float64\n",
            "dtypes: float64(23), int64(1)\n",
            "memory usage: 5.7 MB\n"
          ]
        }
      ]
    },
    {
      "cell_type": "markdown",
      "source": [
        "Cambiamos el tipo de algunos datos por temas de consistencia."
      ],
      "metadata": {
        "id": "Mq9bXB8XsDS3"
      }
    },
    {
      "cell_type": "code",
      "source": [
        "data_df[:] = data_df[:].astype('float64')\n",
        "data_df.dtypes"
      ],
      "metadata": {
        "colab": {
          "base_uri": "https://localhost:8080/"
        },
        "id": "II0XwwlKsCQQ",
        "outputId": "ed1e1edd-a3cb-4af8-9fc3-e51be9f16be3"
      },
      "execution_count": 4,
      "outputs": [
        {
          "output_type": "execute_result",
          "data": {
            "text/plain": [
              "X1     float64\n",
              "X2     float64\n",
              "X3     float64\n",
              "X4     float64\n",
              "X5     float64\n",
              "X6     float64\n",
              "X7     float64\n",
              "X8     float64\n",
              "X9     float64\n",
              "X10    float64\n",
              "X11    float64\n",
              "X12    float64\n",
              "X13    float64\n",
              "X14    float64\n",
              "X15    float64\n",
              "X16    float64\n",
              "X17    float64\n",
              "X18    float64\n",
              "X19    float64\n",
              "X20    float64\n",
              "X21    float64\n",
              "X22    float64\n",
              "X23    float64\n",
              "Y      float64\n",
              "dtype: object"
            ]
          },
          "metadata": {},
          "execution_count": 4
        }
      ]
    },
    {
      "cell_type": "markdown",
      "source": [
        "Revisamos los datos unicos de las variables categoricas"
      ],
      "metadata": {
        "id": "WFZRa4a1pUTH"
      }
    },
    {
      "cell_type": "code",
      "source": [
        "print('X2' + str(sorted(data_df['X2'].unique())))\n",
        "print('X3' + str(sorted(data_df['X3'].unique())))\n",
        "print('X4' + str(sorted(data_df['X4'].unique())))\n",
        "print('X6' + str(sorted(data_df['X6'].unique())))\n",
        "print('X7' + str(sorted(data_df['X7'].unique())))\n",
        "print('X8' + str(sorted(data_df['X8'].unique())))\n",
        "print('X9' + str(sorted(data_df['X9'].unique())))\n",
        "print('X10' + str(sorted(data_df['X10'].unique())))\n",
        "print('X11' + str(sorted(data_df['X11'].unique())))\n",
        "print('Y' + str(sorted(data_df['Y'].unique())))"
      ],
      "metadata": {
        "colab": {
          "base_uri": "https://localhost:8080/"
        },
        "id": "Tov3ebXtongl",
        "outputId": "c5c3cf4e-f1c2-41ec-cc0b-c6a63759016e"
      },
      "execution_count": 5,
      "outputs": [
        {
          "output_type": "stream",
          "name": "stdout",
          "text": [
            "X2[1.0, 2.0]\n",
            "X3[0.0, 1.0, 2.0, 3.0, 4.0, 5.0, 6.0]\n",
            "X4[0.0, 1.0, 2.0, 3.0]\n",
            "X6[-2.0, -1.0, 0.0, 1.0, 2.0, 3.0, 4.0, 5.0, 6.0, 7.0, 8.0]\n",
            "X7[-2.0, -1.0, 0.0, 1.0, 2.0, 3.0, 4.0, 5.0, 6.0, 7.0, 8.0]\n",
            "X8[-2.0, -1.0, 0.0, 1.0, 2.0, 3.0, 4.0, 5.0, 6.0, 7.0, 8.0]\n",
            "X9[-2.0, -1.0, 0.0, 1.0, 2.0, 3.0, 4.0, 5.0, 6.0, 7.0, 8.0]\n",
            "X10[-2.0, -1.0, 0.0, 2.0, 3.0, 4.0, 5.0, 6.0, 7.0, 8.0]\n",
            "X11[-2.0, -1.0, 0.0, 2.0, 3.0, 4.0, 5.0, 6.0, 7.0, 8.0]\n",
            "Y[0.0, 1.0]\n"
          ]
        }
      ]
    },
    {
      "cell_type": "markdown",
      "source": [
        "Como podemos observar hay datos que no estan documentados para las categorias de las variables X3, X4 y X6-X11 segun el *'Data Set Information'* por lo que procedemos a corregirlos"
      ],
      "metadata": {
        "id": "sSANB3BER2N7"
      }
    },
    {
      "cell_type": "code",
      "source": [
        "#Modificamos los datos que están fuera de las categorias\n",
        "data_df['X3'] = data_df['X3'].replace({0:4, 5:4, 6:4})\n",
        "data_df['X4'] = data_df['X4'].replace({0:3})\n",
        "data_df['X6'] = data_df['X6'].replace({0:1})\n",
        "data_df['X7'] = data_df['X7'].replace({0:1})\n",
        "data_df['X8'] = data_df['X8'].replace({0:1})\n",
        "data_df['X9'] = data_df['X9'].replace({0:1})\n",
        "data_df['X10'] = data_df['X10'].replace({0:1})\n",
        "data_df['X11'] = data_df['X11'].replace({0:1})\n"
      ],
      "metadata": {
        "id": "rh3eV_NsuKDa"
      },
      "execution_count": 6,
      "outputs": []
    },
    {
      "cell_type": "code",
      "source": [
        "#Validamos que la corrección se realizo correctamente\n",
        "print('X3' + str(sorted(data_df['X3'].unique())))\n",
        "print('X4' + str(sorted(data_df['X4'].unique())))\n",
        "print('X6' + str(sorted(data_df['X6'].unique())))\n",
        "print('X7' + str(sorted(data_df['X7'].unique())))\n",
        "print('X8' + str(sorted(data_df['X8'].unique())))\n",
        "print('X9' + str(sorted(data_df['X9'].unique())))\n",
        "print('X10' + str(sorted(data_df['X10'].unique())))\n",
        "print('X11' + str(sorted(data_df['X11'].unique())))"
      ],
      "metadata": {
        "colab": {
          "base_uri": "https://localhost:8080/"
        },
        "id": "_TtYQD9dvJpL",
        "outputId": "e472f069-990d-4d22-c0b5-f4fdd7d6f357"
      },
      "execution_count": 7,
      "outputs": [
        {
          "output_type": "stream",
          "name": "stdout",
          "text": [
            "X3[1.0, 2.0, 3.0, 4.0]\n",
            "X4[1.0, 2.0, 3.0]\n",
            "X6[-2.0, -1.0, 1.0, 2.0, 3.0, 4.0, 5.0, 6.0, 7.0, 8.0]\n",
            "X7[-2.0, -1.0, 1.0, 2.0, 3.0, 4.0, 5.0, 6.0, 7.0, 8.0]\n",
            "X8[-2.0, -1.0, 1.0, 2.0, 3.0, 4.0, 5.0, 6.0, 7.0, 8.0]\n",
            "X9[-2.0, -1.0, 1.0, 2.0, 3.0, 4.0, 5.0, 6.0, 7.0, 8.0]\n",
            "X10[-2.0, -1.0, 1.0, 2.0, 3.0, 4.0, 5.0, 6.0, 7.0, 8.0]\n",
            "X11[-2.0, -1.0, 1.0, 2.0, 3.0, 4.0, 5.0, 6.0, 7.0, 8.0]\n"
          ]
        }
      ]
    },
    {
      "cell_type": "markdown",
      "source": [
        "Analizamos descriptibamente la base de datos para poder hacer inferencias sobre la información."
      ],
      "metadata": {
        "id": "gRsNzTzCbZF-"
      }
    },
    {
      "cell_type": "code",
      "source": [
        "data_df.describe()"
      ],
      "metadata": {
        "colab": {
          "base_uri": "https://localhost:8080/",
          "height": 394
        },
        "id": "UBdMF7ogWc7G",
        "outputId": "a4865686-2877-4fab-e4c7-14acb607b91e"
      },
      "execution_count": 8,
      "outputs": [
        {
          "output_type": "execute_result",
          "data": {
            "text/plain": [
              "                   X1            X2            X3            X4            X5  \\\n",
              "count    29958.000000  29958.000000  29958.000000  29958.000000  29958.000000   \n",
              "mean    167555.900928      1.604012      1.842212      1.557147     35.483443   \n",
              "std     129737.299088      0.489070      0.744557      0.521388      9.214319   \n",
              "min      10000.000000      1.000000      1.000000      1.000000     21.000000   \n",
              "25%      50000.000000      1.000000      1.000000      1.000000     28.000000   \n",
              "50%     140000.000000      2.000000      2.000000      2.000000     34.000000   \n",
              "75%     240000.000000      2.000000      2.000000      2.000000     41.000000   \n",
              "max    1000000.000000      2.000000      4.000000      3.000000     79.000000   \n",
              "\n",
              "                 X6            X7            X8            X9           X10  \\\n",
              "count  29958.000000  29958.000000  29958.000000  29958.000000  29958.000000   \n",
              "mean       0.474130      0.390346      0.358702      0.327358      0.298151   \n",
              "std        1.236975      1.350255      1.362022      1.362135      1.352548   \n",
              "min       -2.000000     -2.000000     -2.000000     -2.000000     -2.000000   \n",
              "25%       -1.000000     -1.000000     -1.000000     -1.000000     -1.000000   \n",
              "50%        1.000000      1.000000      1.000000      1.000000      1.000000   \n",
              "75%        1.000000      1.000000      1.000000      1.000000      1.000000   \n",
              "max        8.000000      8.000000      8.000000      8.000000      8.000000   \n",
              "\n",
              "       ...            X15            X16            X17            X18  \\\n",
              "count  ...   29958.000000   29958.000000   29958.000000   29958.000000   \n",
              "mean   ...   43279.335370   40328.984578   38889.925763    5664.614460   \n",
              "std    ...   64364.684347   60826.219326   59582.883301   16568.823518   \n",
              "min    ... -170000.000000  -81334.000000 -339603.000000       0.000000   \n",
              "25%    ...    2327.500000    1762.250000    1256.000000    1000.000000   \n",
              "50%    ...   19037.500000   18104.500000   17067.500000    2100.000000   \n",
              "75%    ...   54551.250000   50220.750000   49234.750000    5007.000000   \n",
              "max    ...  891586.000000  927171.000000  961664.000000  873552.000000   \n",
              "\n",
              "                X19            X20            X21            X22  \\\n",
              "count  2.995800e+04   29958.000000   29958.000000   29958.000000   \n",
              "mean   5.925715e+03    5228.429969    4829.873556    4801.481574   \n",
              "std    2.305598e+04   17617.338167   15676.205514   15285.552652   \n",
              "min    0.000000e+00       0.000000       0.000000       0.000000   \n",
              "25%    8.352500e+02     390.000000     296.250000     253.250000   \n",
              "50%    2.009000e+03    1800.000000    1500.000000    1500.000000   \n",
              "75%    5.000000e+03    4511.500000    4014.750000    4040.000000   \n",
              "max    1.684259e+06  896040.000000  621000.000000  426529.000000   \n",
              "\n",
              "                 X23             Y  \n",
              "count   29958.000000  29958.000000  \n",
              "mean     5220.708025      0.221143  \n",
              "std     17788.983767      0.415023  \n",
              "min         0.000000      0.000000  \n",
              "25%       118.000000      0.000000  \n",
              "50%      1500.000000      0.000000  \n",
              "75%      4000.000000      0.000000  \n",
              "max    528666.000000      1.000000  \n",
              "\n",
              "[8 rows x 24 columns]"
            ],
            "text/html": [
              "\n",
              "  <div id=\"df-2da8f348-6d69-4340-b2f6-a01c9a864df4\">\n",
              "    <div class=\"colab-df-container\">\n",
              "      <div>\n",
              "<style scoped>\n",
              "    .dataframe tbody tr th:only-of-type {\n",
              "        vertical-align: middle;\n",
              "    }\n",
              "\n",
              "    .dataframe tbody tr th {\n",
              "        vertical-align: top;\n",
              "    }\n",
              "\n",
              "    .dataframe thead th {\n",
              "        text-align: right;\n",
              "    }\n",
              "</style>\n",
              "<table border=\"1\" class=\"dataframe\">\n",
              "  <thead>\n",
              "    <tr style=\"text-align: right;\">\n",
              "      <th></th>\n",
              "      <th>X1</th>\n",
              "      <th>X2</th>\n",
              "      <th>X3</th>\n",
              "      <th>X4</th>\n",
              "      <th>X5</th>\n",
              "      <th>X6</th>\n",
              "      <th>X7</th>\n",
              "      <th>X8</th>\n",
              "      <th>X9</th>\n",
              "      <th>X10</th>\n",
              "      <th>...</th>\n",
              "      <th>X15</th>\n",
              "      <th>X16</th>\n",
              "      <th>X17</th>\n",
              "      <th>X18</th>\n",
              "      <th>X19</th>\n",
              "      <th>X20</th>\n",
              "      <th>X21</th>\n",
              "      <th>X22</th>\n",
              "      <th>X23</th>\n",
              "      <th>Y</th>\n",
              "    </tr>\n",
              "  </thead>\n",
              "  <tbody>\n",
              "    <tr>\n",
              "      <th>count</th>\n",
              "      <td>29958.000000</td>\n",
              "      <td>29958.000000</td>\n",
              "      <td>29958.000000</td>\n",
              "      <td>29958.000000</td>\n",
              "      <td>29958.000000</td>\n",
              "      <td>29958.000000</td>\n",
              "      <td>29958.000000</td>\n",
              "      <td>29958.000000</td>\n",
              "      <td>29958.000000</td>\n",
              "      <td>29958.000000</td>\n",
              "      <td>...</td>\n",
              "      <td>29958.000000</td>\n",
              "      <td>29958.000000</td>\n",
              "      <td>29958.000000</td>\n",
              "      <td>29958.000000</td>\n",
              "      <td>2.995800e+04</td>\n",
              "      <td>29958.000000</td>\n",
              "      <td>29958.000000</td>\n",
              "      <td>29958.000000</td>\n",
              "      <td>29958.000000</td>\n",
              "      <td>29958.000000</td>\n",
              "    </tr>\n",
              "    <tr>\n",
              "      <th>mean</th>\n",
              "      <td>167555.900928</td>\n",
              "      <td>1.604012</td>\n",
              "      <td>1.842212</td>\n",
              "      <td>1.557147</td>\n",
              "      <td>35.483443</td>\n",
              "      <td>0.474130</td>\n",
              "      <td>0.390346</td>\n",
              "      <td>0.358702</td>\n",
              "      <td>0.327358</td>\n",
              "      <td>0.298151</td>\n",
              "      <td>...</td>\n",
              "      <td>43279.335370</td>\n",
              "      <td>40328.984578</td>\n",
              "      <td>38889.925763</td>\n",
              "      <td>5664.614460</td>\n",
              "      <td>5.925715e+03</td>\n",
              "      <td>5228.429969</td>\n",
              "      <td>4829.873556</td>\n",
              "      <td>4801.481574</td>\n",
              "      <td>5220.708025</td>\n",
              "      <td>0.221143</td>\n",
              "    </tr>\n",
              "    <tr>\n",
              "      <th>std</th>\n",
              "      <td>129737.299088</td>\n",
              "      <td>0.489070</td>\n",
              "      <td>0.744557</td>\n",
              "      <td>0.521388</td>\n",
              "      <td>9.214319</td>\n",
              "      <td>1.236975</td>\n",
              "      <td>1.350255</td>\n",
              "      <td>1.362022</td>\n",
              "      <td>1.362135</td>\n",
              "      <td>1.352548</td>\n",
              "      <td>...</td>\n",
              "      <td>64364.684347</td>\n",
              "      <td>60826.219326</td>\n",
              "      <td>59582.883301</td>\n",
              "      <td>16568.823518</td>\n",
              "      <td>2.305598e+04</td>\n",
              "      <td>17617.338167</td>\n",
              "      <td>15676.205514</td>\n",
              "      <td>15285.552652</td>\n",
              "      <td>17788.983767</td>\n",
              "      <td>0.415023</td>\n",
              "    </tr>\n",
              "    <tr>\n",
              "      <th>min</th>\n",
              "      <td>10000.000000</td>\n",
              "      <td>1.000000</td>\n",
              "      <td>1.000000</td>\n",
              "      <td>1.000000</td>\n",
              "      <td>21.000000</td>\n",
              "      <td>-2.000000</td>\n",
              "      <td>-2.000000</td>\n",
              "      <td>-2.000000</td>\n",
              "      <td>-2.000000</td>\n",
              "      <td>-2.000000</td>\n",
              "      <td>...</td>\n",
              "      <td>-170000.000000</td>\n",
              "      <td>-81334.000000</td>\n",
              "      <td>-339603.000000</td>\n",
              "      <td>0.000000</td>\n",
              "      <td>0.000000e+00</td>\n",
              "      <td>0.000000</td>\n",
              "      <td>0.000000</td>\n",
              "      <td>0.000000</td>\n",
              "      <td>0.000000</td>\n",
              "      <td>0.000000</td>\n",
              "    </tr>\n",
              "    <tr>\n",
              "      <th>25%</th>\n",
              "      <td>50000.000000</td>\n",
              "      <td>1.000000</td>\n",
              "      <td>1.000000</td>\n",
              "      <td>1.000000</td>\n",
              "      <td>28.000000</td>\n",
              "      <td>-1.000000</td>\n",
              "      <td>-1.000000</td>\n",
              "      <td>-1.000000</td>\n",
              "      <td>-1.000000</td>\n",
              "      <td>-1.000000</td>\n",
              "      <td>...</td>\n",
              "      <td>2327.500000</td>\n",
              "      <td>1762.250000</td>\n",
              "      <td>1256.000000</td>\n",
              "      <td>1000.000000</td>\n",
              "      <td>8.352500e+02</td>\n",
              "      <td>390.000000</td>\n",
              "      <td>296.250000</td>\n",
              "      <td>253.250000</td>\n",
              "      <td>118.000000</td>\n",
              "      <td>0.000000</td>\n",
              "    </tr>\n",
              "    <tr>\n",
              "      <th>50%</th>\n",
              "      <td>140000.000000</td>\n",
              "      <td>2.000000</td>\n",
              "      <td>2.000000</td>\n",
              "      <td>2.000000</td>\n",
              "      <td>34.000000</td>\n",
              "      <td>1.000000</td>\n",
              "      <td>1.000000</td>\n",
              "      <td>1.000000</td>\n",
              "      <td>1.000000</td>\n",
              "      <td>1.000000</td>\n",
              "      <td>...</td>\n",
              "      <td>19037.500000</td>\n",
              "      <td>18104.500000</td>\n",
              "      <td>17067.500000</td>\n",
              "      <td>2100.000000</td>\n",
              "      <td>2.009000e+03</td>\n",
              "      <td>1800.000000</td>\n",
              "      <td>1500.000000</td>\n",
              "      <td>1500.000000</td>\n",
              "      <td>1500.000000</td>\n",
              "      <td>0.000000</td>\n",
              "    </tr>\n",
              "    <tr>\n",
              "      <th>75%</th>\n",
              "      <td>240000.000000</td>\n",
              "      <td>2.000000</td>\n",
              "      <td>2.000000</td>\n",
              "      <td>2.000000</td>\n",
              "      <td>41.000000</td>\n",
              "      <td>1.000000</td>\n",
              "      <td>1.000000</td>\n",
              "      <td>1.000000</td>\n",
              "      <td>1.000000</td>\n",
              "      <td>1.000000</td>\n",
              "      <td>...</td>\n",
              "      <td>54551.250000</td>\n",
              "      <td>50220.750000</td>\n",
              "      <td>49234.750000</td>\n",
              "      <td>5007.000000</td>\n",
              "      <td>5.000000e+03</td>\n",
              "      <td>4511.500000</td>\n",
              "      <td>4014.750000</td>\n",
              "      <td>4040.000000</td>\n",
              "      <td>4000.000000</td>\n",
              "      <td>0.000000</td>\n",
              "    </tr>\n",
              "    <tr>\n",
              "      <th>max</th>\n",
              "      <td>1000000.000000</td>\n",
              "      <td>2.000000</td>\n",
              "      <td>4.000000</td>\n",
              "      <td>3.000000</td>\n",
              "      <td>79.000000</td>\n",
              "      <td>8.000000</td>\n",
              "      <td>8.000000</td>\n",
              "      <td>8.000000</td>\n",
              "      <td>8.000000</td>\n",
              "      <td>8.000000</td>\n",
              "      <td>...</td>\n",
              "      <td>891586.000000</td>\n",
              "      <td>927171.000000</td>\n",
              "      <td>961664.000000</td>\n",
              "      <td>873552.000000</td>\n",
              "      <td>1.684259e+06</td>\n",
              "      <td>896040.000000</td>\n",
              "      <td>621000.000000</td>\n",
              "      <td>426529.000000</td>\n",
              "      <td>528666.000000</td>\n",
              "      <td>1.000000</td>\n",
              "    </tr>\n",
              "  </tbody>\n",
              "</table>\n",
              "<p>8 rows × 24 columns</p>\n",
              "</div>\n",
              "      <button class=\"colab-df-convert\" onclick=\"convertToInteractive('df-2da8f348-6d69-4340-b2f6-a01c9a864df4')\"\n",
              "              title=\"Convert this dataframe to an interactive table.\"\n",
              "              style=\"display:none;\">\n",
              "        \n",
              "  <svg xmlns=\"http://www.w3.org/2000/svg\" height=\"24px\"viewBox=\"0 0 24 24\"\n",
              "       width=\"24px\">\n",
              "    <path d=\"M0 0h24v24H0V0z\" fill=\"none\"/>\n",
              "    <path d=\"M18.56 5.44l.94 2.06.94-2.06 2.06-.94-2.06-.94-.94-2.06-.94 2.06-2.06.94zm-11 1L8.5 8.5l.94-2.06 2.06-.94-2.06-.94L8.5 2.5l-.94 2.06-2.06.94zm10 10l.94 2.06.94-2.06 2.06-.94-2.06-.94-.94-2.06-.94 2.06-2.06.94z\"/><path d=\"M17.41 7.96l-1.37-1.37c-.4-.4-.92-.59-1.43-.59-.52 0-1.04.2-1.43.59L10.3 9.45l-7.72 7.72c-.78.78-.78 2.05 0 2.83L4 21.41c.39.39.9.59 1.41.59.51 0 1.02-.2 1.41-.59l7.78-7.78 2.81-2.81c.8-.78.8-2.07 0-2.86zM5.41 20L4 18.59l7.72-7.72 1.47 1.35L5.41 20z\"/>\n",
              "  </svg>\n",
              "      </button>\n",
              "      \n",
              "  <style>\n",
              "    .colab-df-container {\n",
              "      display:flex;\n",
              "      flex-wrap:wrap;\n",
              "      gap: 12px;\n",
              "    }\n",
              "\n",
              "    .colab-df-convert {\n",
              "      background-color: #E8F0FE;\n",
              "      border: none;\n",
              "      border-radius: 50%;\n",
              "      cursor: pointer;\n",
              "      display: none;\n",
              "      fill: #1967D2;\n",
              "      height: 32px;\n",
              "      padding: 0 0 0 0;\n",
              "      width: 32px;\n",
              "    }\n",
              "\n",
              "    .colab-df-convert:hover {\n",
              "      background-color: #E2EBFA;\n",
              "      box-shadow: 0px 1px 2px rgba(60, 64, 67, 0.3), 0px 1px 3px 1px rgba(60, 64, 67, 0.15);\n",
              "      fill: #174EA6;\n",
              "    }\n",
              "\n",
              "    [theme=dark] .colab-df-convert {\n",
              "      background-color: #3B4455;\n",
              "      fill: #D2E3FC;\n",
              "    }\n",
              "\n",
              "    [theme=dark] .colab-df-convert:hover {\n",
              "      background-color: #434B5C;\n",
              "      box-shadow: 0px 1px 3px 1px rgba(0, 0, 0, 0.15);\n",
              "      filter: drop-shadow(0px 1px 2px rgba(0, 0, 0, 0.3));\n",
              "      fill: #FFFFFF;\n",
              "    }\n",
              "  </style>\n",
              "\n",
              "      <script>\n",
              "        const buttonEl =\n",
              "          document.querySelector('#df-2da8f348-6d69-4340-b2f6-a01c9a864df4 button.colab-df-convert');\n",
              "        buttonEl.style.display =\n",
              "          google.colab.kernel.accessAllowed ? 'block' : 'none';\n",
              "\n",
              "        async function convertToInteractive(key) {\n",
              "          const element = document.querySelector('#df-2da8f348-6d69-4340-b2f6-a01c9a864df4');\n",
              "          const dataTable =\n",
              "            await google.colab.kernel.invokeFunction('convertToInteractive',\n",
              "                                                     [key], {});\n",
              "          if (!dataTable) return;\n",
              "\n",
              "          const docLinkHtml = 'Like what you see? Visit the ' +\n",
              "            '<a target=\"_blank\" href=https://colab.research.google.com/notebooks/data_table.ipynb>data table notebook</a>'\n",
              "            + ' to learn more about interactive tables.';\n",
              "          element.innerHTML = '';\n",
              "          dataTable['output_type'] = 'display_data';\n",
              "          await google.colab.output.renderOutput(dataTable, element);\n",
              "          const docLink = document.createElement('div');\n",
              "          docLink.innerHTML = docLinkHtml;\n",
              "          element.appendChild(docLink);\n",
              "        }\n",
              "      </script>\n",
              "    </div>\n",
              "  </div>\n",
              "  "
            ]
          },
          "metadata": {},
          "execution_count": 8
        }
      ]
    },
    {
      "cell_type": "markdown",
      "source": [
        "Con el analisis descriptivo podemos inferir los siguiente:\n",
        "\n",
        "*   Hay 29,958 clientes distintos de tarjetas de crédito.\n",
        "*   El valor promedio de la cantidad de monto del crédito otorgado es 167,555. La desviación estándar es inusualmente grande, siendo el valor máximo de 1 millon.\n",
        "*   El nivel educativo es mayoritariamente de posgrado y universitario.\n",
        "*   La mayoría de los clientes son casados ​​o solteros (menos frecuente el estado civil \"otros\").\n",
        "*   La edad promedio es de 35,5 años, con una desviación estándar de 9,2.\n",
        "*   Como el valor 0 para incumplimiento de pago significa 'no incumplimiento' y el valor 1 significa 'incumplimiento', la media de 0.221 significa que hay un 22.1% de contratos de tarjetas de crédito que incumplirán el próximo mes.\n",
        "\n",
        "\n"
      ],
      "metadata": {
        "id": "yopSG5t2W47J"
      }
    },
    {
      "cell_type": "markdown",
      "source": [
        "**Exploracion de datos**"
      ],
      "metadata": {
        "id": "QIm7gOv2qqbl"
      }
    },
    {
      "cell_type": "code",
      "source": [
        "#Sacamos la variable Y, para dejar unicamente las variables X\n",
        "y_target = data_df['Y']\n",
        "x_features = data_df.drop('Y', axis=1)"
      ],
      "metadata": {
        "id": "sYDSYmHq3n52"
      },
      "execution_count": 9,
      "outputs": []
    },
    {
      "cell_type": "code",
      "source": [
        "sns.displot(x_features['X1'], x=x_features['X1'], kde=True, height=5, aspect=2)\n",
        "plt.show()"
      ],
      "metadata": {
        "colab": {
          "base_uri": "https://localhost:8080/",
          "height": 369
        },
        "id": "3cW0GXd5qwJq",
        "outputId": "2989f9c8-6d6f-4384-aa62-97a93e63ffe2"
      },
      "execution_count": 10,
      "outputs": [
        {
          "output_type": "display_data",
          "data": {
            "text/plain": [
              "<Figure size 720x360 with 1 Axes>"
            ],
            "image/png": "[encoded data removed]"
          },
          "metadata": {
            "needs_background": "light"
          }
        }
      ]
    },
    {
      "cell_type": "markdown",
      "source": [
        "Aparentemente, el grupo más grande de cantidad del monto del crédito otorgado es por una cantidad de 50,000."
      ],
      "metadata": {
        "id": "VrGzHs1O9EVs"
      }
    },
    {
      "cell_type": "code",
      "source": [
        "#Confirmamos si realmente es así\n",
        "x_features['X1'].value_counts().head(5)"
      ],
      "metadata": {
        "colab": {
          "base_uri": "https://localhost:8080/"
        },
        "id": "qabuRNwZCwFI",
        "outputId": "cb513323-9081-4402-f4a2-8104e0602327"
      },
      "execution_count": 11,
      "outputs": [
        {
          "output_type": "execute_result",
          "data": {
            "text/plain": [
              "50000.0     3356\n",
              "20000.0     1969\n",
              "30000.0     1607\n",
              "80000.0     1565\n",
              "200000.0    1528\n",
              "Name: X1, dtype: int64"
            ]
          },
          "metadata": {},
          "execution_count": 11
        }
      ]
    },
    {
      "cell_type": "markdown",
      "source": [
        "Veamos la distribución del monto del crédito otorgado (X1) vs. sexo (X2). Para el sexo, 1 representa masculino y 2 femenino."
      ],
      "metadata": {
        "id": "nVeutCIfEGJC"
      }
    },
    {
      "cell_type": "code",
      "source": [
        "fig, (ax1, ax2) = plt.subplots(ncols=2, figsize=(12,6))\n",
        "s = sns.boxplot(ax = ax1, x=\"X2\", y=\"X1\", hue=\"X2\",data=x_features, palette=\"pastel\",showfliers=True)\n",
        "s = sns.boxplot(ax = ax2, x=\"X2\", y=\"X1\", hue=\"X2\",data=x_features, palette=\"pastel\",showfliers=False)\n",
        "plt.show();"
      ],
      "metadata": {
        "colab": {
          "base_uri": "https://localhost:8080/",
          "height": 399
        },
        "id": "_gy15RuTDy6G",
        "outputId": "5c2af391-fb99-4ded-a674-e4a6dc063df9"
      },
      "execution_count": 12,
      "outputs": [
        {
          "output_type": "display_data",
          "data": {
            "text/plain": [
              "<Figure size 864x432 with 2 Axes>"
            ],
            "image/png": "[encoded data removed]"
          },
          "metadata": {
            "needs_background": "light"
          }
        }
      ]
    },
    {
      "cell_type": "markdown",
      "source": [
        "La cantidad del monto del crédito otorgado está bastante equilibrada entre sexos. Los hombres tienen una mediana ligeramente más pequeña y un Q3 y Q4 más grandes. Las mujeres tienen un valor máximo de valores atípicos más grande (1 millón)."
      ],
      "metadata": {
        "id": "KC6bUj1mGyb7"
      }
    },
    {
      "cell_type": "markdown",
      "source": [
        "Ahora revisaremos las distribuciones por sexo (X2), educación (X3), edad (X5) y estado civil (X4). \n",
        "\n",
        "Comenzamos mostrando los diagramas de caja con la distribución por edad agrupada por estado civil (4) y sexo (X2).\n",
        "\n",
        "Las variables del estado civil (X4) son:\n",
        "\n",
        "*   1: casado, 2: soltero y 3: otros.\n",
        "\n",
        "Las variables de genero (X2) son:\n",
        "*   1: masculino y 2: femenino"
      ],
      "metadata": {
        "id": "XLsczCgQ3Zns"
      }
    },
    {
      "cell_type": "code",
      "source": [
        "def boxplot_variation(feature1, feature2, feature3, width=16):\n",
        "    fig, ax1 = plt.subplots(ncols=1, figsize=(width,6))\n",
        "    s = sns.boxplot(ax = ax1, x=feature1, y=feature2, hue=feature3,\n",
        "                data=data_df, palette=\"pastel\",showfliers=False)\n",
        "    s.set_xticklabels(s.get_xticklabels(),rotation=90)\n",
        "    plt.show();"
      ],
      "metadata": {
        "id": "FZANHW7m6EE3"
      },
      "execution_count": 13,
      "outputs": []
    },
    {
      "cell_type": "code",
      "source": [
        "boxplot_variation('X4','X5','X2',8)"
      ],
      "metadata": {
        "colab": {
          "base_uri": "https://localhost:8080/",
          "height": 394
        },
        "id": "zjzVv2jy6XY5",
        "outputId": "5993fa63-017b-465e-b32f-312105a47a7e"
      },
      "execution_count": 14,
      "outputs": [
        {
          "output_type": "display_data",
          "data": {
            "text/plain": [
              "<Figure size 576x432 with 1 Axes>"
            ],
            "image/png": "[encoded data removed]"
          },
          "metadata": {
            "needs_background": "light"
          }
        }
      ]
    },
    {
      "cell_type": "markdown",
      "source": [
        "Parece que el estado de casado 3 (otros), con valores medios superiores a 40 y valores de Q4 superiores a 60 significa que en su mayoría son viudos o divorciados. Los hombres casados ​​tienen una edad media superior a las mujeres casadas. Los hombres solteros también tienen un valor medio para la edad por encima de las mujeres solteras, pero más cercano. Los valores de Q3 y Q4 para hombres casados ​​están por encima de los valores correspondientes para mujeres casadas.\n",
        "\n",
        "Ahora analicemos mediante diagramas de caja la distribución por edad (X5)agrupados por educación (X3) y estado civil (x4)."
      ],
      "metadata": {
        "id": "YdCBLuYUHPRX"
      }
    },
    {
      "cell_type": "code",
      "source": [
        "boxplot_variation('X3','X5', 'X4',12)"
      ],
      "metadata": {
        "colab": {
          "base_uri": "https://localhost:8080/",
          "height": 394
        },
        "id": "Yl3ofyU8IHZU",
        "outputId": "0507bcfa-d1f6-481d-fbd2-f975a15098b8"
      },
      "execution_count": 15,
      "outputs": [
        {
          "output_type": "display_data",
          "data": {
            "text/plain": [
              "<Figure size 864x432 with 1 Axes>"
            ],
            "image/png": "[encoded data removed]"
          },
          "metadata": {
            "needs_background": "light"
          }
        }
      ]
    },
    {
      "cell_type": "markdown",
      "source": [
        "Segun los datos, al parecer hay un grupo grande que en su mayoria son hombres, casados o viudos que solo tienen secundaria.\n",
        "\n",
        "Ahora analicemos los diagramas de caja con la distribución de crédito otorgado (X1) agrupados por edad (X5) y sexo (X2)."
      ],
      "metadata": {
        "id": "XChYs5joJmnZ"
      }
    },
    {
      "cell_type": "code",
      "source": [
        "boxplot_variation('X5','X1', 'X2',16)"
      ],
      "metadata": {
        "colab": {
          "base_uri": "https://localhost:8080/",
          "height": 400
        },
        "id": "rKMPU9bbKQpw",
        "outputId": "acd1a430-2133-488d-c68d-ba4ef38fb78b"
      },
      "execution_count": 16,
      "outputs": [
        {
          "output_type": "display_data",
          "data": {
            "text/plain": [
              "<Figure size 1152x432 with 1 Axes>"
            ],
            "image/png": "[encoded data removed]"
          },
          "metadata": {
            "needs_background": "light"
          }
        }
      ]
    },
    {
      "cell_type": "markdown",
      "source": [
        "Los valores medios, Q3 y Q4 aumentan tanto para hombres como para mujeres con la edad hasta alrededor de los 34 años y luego oscilan y llegan a un máximo de Q4 para los hombres a los 65 años.\n",
        "\n",
        "Los valores medios son generalmente menores para los hombres que para las mujeres, con pocas excepciones, por ejemplo, a los 39, 45, 54 años, hasta aproximadamente los 60 años, donde los valores medios para los hombres son generalmente mayores que para las mujeres."
      ],
      "metadata": {
        "id": "oYOpveeYLp2c"
      }
    },
    {
      "cell_type": "code",
      "source": [
        "x_features_num = ['X1', 'X5', 'X12', 'X13', 'X14', 'X15', 'X16', 'X17', 'X18', 'X19', 'X20', 'X21', 'X22', 'X23']"
      ],
      "metadata": {
        "id": "Fk1e5x7-UFxV"
      },
      "execution_count": 17,
      "outputs": []
    },
    {
      "cell_type": "code",
      "source": [
        "corr = x_features[x_features_num].corr()\n",
        "plt.figure(figsize=(27, 11))\n",
        "sns.heatmap(corr, annot=True,cmap='Reds', fmt='.1g')"
      ],
      "metadata": {
        "id": "SM81YrCml8Ug",
        "colab": {
          "base_uri": "https://localhost:8080/",
          "height": 583
        },
        "outputId": "bc309118-c4b3-4145-fc05-32fc03056002"
      },
      "execution_count": 18,
      "outputs": [
        {
          "output_type": "execute_result",
          "data": {
            "text/plain": [
              "<matplotlib.axes._subplots.AxesSubplot at 0x7fca5c0b8b50>"
            ]
          },
          "metadata": {},
          "execution_count": 18
        },
        {
          "output_type": "display_data",
          "data": {
            "text/plain": [
              "<Figure size 1944x792 with 2 Axes>"
            ],
            "image/png": "[encoded data removed]"
          },
          "metadata": {
            "needs_background": "light"
          }
        }
      ]
    },
    {
      "cell_type": "markdown",
      "source": [
        "Como observamos hay una alta correlación entre X12-X17: Importe del estado de cuenta (dólar NT).\n",
        "\n",
        "Convierta 6 propiedades de estos en 2 componentes y luego verifique la volatilidad de los componentes individuales.\n",
        "\n",
        "Para proceder con PCA vamos a arreglar la distribucion y escalar algunas variables a continuación."
      ],
      "metadata": {
        "id": "zb2l7LeB2jqd"
      }
    },
    {
      "cell_type": "code",
      "source": [
        "scaler = MinMaxScaler()\n",
        "\n",
        "x_features['X1'] = scaler.fit_transform(x_features['X1'].values.reshape(-1, 1))\n",
        "x_features['X5'] = scaler.fit_transform(x_features['X5'].values.reshape(-1, 1))\n",
        "x_features['X12'] = scaler.fit_transform(x_features['X12'].values.reshape(-1, 1))\n",
        "x_features['X13'] = scaler.fit_transform(x_features['X13'].values.reshape(-1, 1))\n",
        "x_features['X14'] = scaler.fit_transform(x_features['X14'].values.reshape(-1, 1))\n",
        "x_features['X15'] = scaler.fit_transform(x_features['X15'].values.reshape(-1, 1))\n",
        "x_features['X16'] = scaler.fit_transform(x_features['X16'].values.reshape(-1, 1))\n",
        "x_features['X17'] = scaler.fit_transform(x_features['X17'].values.reshape(-1, 1))\n",
        "x_features['X18'] = scaler.fit_transform(x_features['X18'].values.reshape(-1, 1))\n",
        "x_features['X19'] = scaler.fit_transform(x_features['X19'].values.reshape(-1, 1))\n",
        "x_features['X20'] = scaler.fit_transform(x_features['X20'].values.reshape(-1, 1))\n",
        "x_features['X21'] = scaler.fit_transform(x_features['X21'].values.reshape(-1, 1))\n",
        "x_features['X22'] = scaler.fit_transform(x_features['X22'].values.reshape(-1, 1))\n",
        "x_features['X23'] = scaler.fit_transform(x_features['X23'].values.reshape(-1, 1))"
      ],
      "metadata": {
        "id": "6aypApgEdNU_"
      },
      "execution_count": 21,
      "outputs": []
    },
    {
      "cell_type": "code",
      "source": [
        "# BOXPLOT\n",
        "cols = ['X1', 'X5', 'X12', 'X13', 'X14', 'X15', 'X16', 'X17', 'X18', 'X19', 'X20', 'X21', 'X22', 'X23']\n",
        "\n",
        "fig=plt.figure(1, figsize=(19,8))\n",
        "ax=fig.add_subplot(111)\n",
        "sns.boxplot(data=x_features[cols])\n",
        "plt.xticks(np.arange(0,14), labels=cols, rotation=25, fontsize=18)\n",
        "plt.yticks(fontsize=18)\n",
        "plt.title('Boxplot', fontsize= 35)\n",
        "\n",
        "plt.savefig('Fig - Boxplot')"
      ],
      "metadata": {
        "colab": {
          "base_uri": "https://localhost:8080/",
          "height": 538
        },
        "id": "WJicH9Snb3Q2",
        "outputId": "069bddf9-3e11-480c-88ee-ea7e96864a1a"
      },
      "execution_count": 22,
      "outputs": [
        {
          "output_type": "display_data",
          "data": {
            "text/plain": [
              "<Figure size 1368x576 with 1 Axes>"
            ],
            "image/png": "[encoded data removed]"
          },
          "metadata": {
            "needs_background": "light"
          }
        }
      ]
    },
    {
      "cell_type": "code",
      "source": [
        "resumen = {\n",
        "    \"Varianzas\": x_features[x_features_num].var()[0:14],\n",
        "    \"Valor Min\": x_features[x_features_num].min()[0:14],\n",
        "    \"Valor Max\": x_features[x_features_num].max()[0:14]\n",
        "}\n",
        "\n",
        "pd.DataFrame(resumen, index = x_features_num).transpose()"
      ],
      "metadata": {
        "colab": {
          "base_uri": "https://localhost:8080/",
          "height": 143
        },
        "id": "Ne7iPzOIEso5",
        "outputId": "7048acf8-37b7-49f3-ac9d-ae3994ff81a0"
      },
      "execution_count": 23,
      "outputs": [
        {
          "output_type": "execute_result",
          "data": {
            "text/plain": [
              "                 X1        X5      X12       X13       X14       X15  \\\n",
              "Varianzas  0.017174  0.025239  0.00425  0.004567  0.001451  0.003676   \n",
              "Valor Min  0.000000  0.000000  0.00000  0.000000  0.000000  0.000000   \n",
              "Valor Max  1.000000  1.000000  1.00000  1.000000  1.000000  1.000000   \n",
              "\n",
              "                X16       X17      X18       X19       X20       X21  \\\n",
              "Varianzas  0.003638  0.002097  0.00036  0.000187  0.000387  0.000637   \n",
              "Valor Min  0.000000  0.000000  0.00000  0.000000  0.000000  0.000000   \n",
              "Valor Max  1.000000  1.000000  1.00000  1.000000  1.000000  1.000000   \n",
              "\n",
              "                X22       X23  \n",
              "Varianzas  0.001284  0.001132  \n",
              "Valor Min  0.000000  0.000000  \n",
              "Valor Max  1.000000  1.000000  "
            ],
            "text/html": [
              "\n",
              "  <div id=\"df-6d727663-d687-4c52-a9b9-3cb14b2d10f4\">\n",
              "    <div class=\"colab-df-container\">\n",
              "      <div>\n",
              "<style scoped>\n",
              "    .dataframe tbody tr th:only-of-type {\n",
              "        vertical-align: middle;\n",
              "    }\n",
              "\n",
              "    .dataframe tbody tr th {\n",
              "        vertical-align: top;\n",
              "    }\n",
              "\n",
              "    .dataframe thead th {\n",
              "        text-align: right;\n",
              "    }\n",
              "</style>\n",
              "<table border=\"1\" class=\"dataframe\">\n",
              "  <thead>\n",
              "    <tr style=\"text-align: right;\">\n",
              "      <th></th>\n",
              "      <th>X1</th>\n",
              "      <th>X5</th>\n",
              "      <th>X12</th>\n",
              "      <th>X13</th>\n",
              "      <th>X14</th>\n",
              "      <th>X15</th>\n",
              "      <th>X16</th>\n",
              "      <th>X17</th>\n",
              "      <th>X18</th>\n",
              "      <th>X19</th>\n",
              "      <th>X20</th>\n",
              "      <th>X21</th>\n",
              "      <th>X22</th>\n",
              "      <th>X23</th>\n",
              "    </tr>\n",
              "  </thead>\n",
              "  <tbody>\n",
              "    <tr>\n",
              "      <th>Varianzas</th>\n",
              "      <td>0.017174</td>\n",
              "      <td>0.025239</td>\n",
              "      <td>0.00425</td>\n",
              "      <td>0.004567</td>\n",
              "      <td>0.001451</td>\n",
              "      <td>0.003676</td>\n",
              "      <td>0.003638</td>\n",
              "      <td>0.002097</td>\n",
              "      <td>0.00036</td>\n",
              "      <td>0.000187</td>\n",
              "      <td>0.000387</td>\n",
              "      <td>0.000637</td>\n",
              "      <td>0.001284</td>\n",
              "      <td>0.001132</td>\n",
              "    </tr>\n",
              "    <tr>\n",
              "      <th>Valor Min</th>\n",
              "      <td>0.000000</td>\n",
              "      <td>0.000000</td>\n",
              "      <td>0.00000</td>\n",
              "      <td>0.000000</td>\n",
              "      <td>0.000000</td>\n",
              "      <td>0.000000</td>\n",
              "      <td>0.000000</td>\n",
              "      <td>0.000000</td>\n",
              "      <td>0.00000</td>\n",
              "      <td>0.000000</td>\n",
              "      <td>0.000000</td>\n",
              "      <td>0.000000</td>\n",
              "      <td>0.000000</td>\n",
              "      <td>0.000000</td>\n",
              "    </tr>\n",
              "    <tr>\n",
              "      <th>Valor Max</th>\n",
              "      <td>1.000000</td>\n",
              "      <td>1.000000</td>\n",
              "      <td>1.00000</td>\n",
              "      <td>1.000000</td>\n",
              "      <td>1.000000</td>\n",
              "      <td>1.000000</td>\n",
              "      <td>1.000000</td>\n",
              "      <td>1.000000</td>\n",
              "      <td>1.00000</td>\n",
              "      <td>1.000000</td>\n",
              "      <td>1.000000</td>\n",
              "      <td>1.000000</td>\n",
              "      <td>1.000000</td>\n",
              "      <td>1.000000</td>\n",
              "    </tr>\n",
              "  </tbody>\n",
              "</table>\n",
              "</div>\n",
              "      <button class=\"colab-df-convert\" onclick=\"convertToInteractive('df-6d727663-d687-4c52-a9b9-3cb14b2d10f4')\"\n",
              "              title=\"Convert this dataframe to an interactive table.\"\n",
              "              style=\"display:none;\">\n",
              "        \n",
              "  <svg xmlns=\"http://www.w3.org/2000/svg\" height=\"24px\"viewBox=\"0 0 24 24\"\n",
              "       width=\"24px\">\n",
              "    <path d=\"M0 0h24v24H0V0z\" fill=\"none\"/>\n",
              "    <path d=\"M18.56 5.44l.94 2.06.94-2.06 2.06-.94-2.06-.94-.94-2.06-.94 2.06-2.06.94zm-11 1L8.5 8.5l.94-2.06 2.06-.94-2.06-.94L8.5 2.5l-.94 2.06-2.06.94zm10 10l.94 2.06.94-2.06 2.06-.94-2.06-.94-.94-2.06-.94 2.06-2.06.94z\"/><path d=\"M17.41 7.96l-1.37-1.37c-.4-.4-.92-.59-1.43-.59-.52 0-1.04.2-1.43.59L10.3 9.45l-7.72 7.72c-.78.78-.78 2.05 0 2.83L4 21.41c.39.39.9.59 1.41.59.51 0 1.02-.2 1.41-.59l7.78-7.78 2.81-2.81c.8-.78.8-2.07 0-2.86zM5.41 20L4 18.59l7.72-7.72 1.47 1.35L5.41 20z\"/>\n",
              "  </svg>\n",
              "      </button>\n",
              "      \n",
              "  <style>\n",
              "    .colab-df-container {\n",
              "      display:flex;\n",
              "      flex-wrap:wrap;\n",
              "      gap: 12px;\n",
              "    }\n",
              "\n",
              "    .colab-df-convert {\n",
              "      background-color: #E8F0FE;\n",
              "      border: none;\n",
              "      border-radius: 50%;\n",
              "      cursor: pointer;\n",
              "      display: none;\n",
              "      fill: #1967D2;\n",
              "      height: 32px;\n",
              "      padding: 0 0 0 0;\n",
              "      width: 32px;\n",
              "    }\n",
              "\n",
              "    .colab-df-convert:hover {\n",
              "      background-color: #E2EBFA;\n",
              "      box-shadow: 0px 1px 2px rgba(60, 64, 67, 0.3), 0px 1px 3px 1px rgba(60, 64, 67, 0.15);\n",
              "      fill: #174EA6;\n",
              "    }\n",
              "\n",
              "    [theme=dark] .colab-df-convert {\n",
              "      background-color: #3B4455;\n",
              "      fill: #D2E3FC;\n",
              "    }\n",
              "\n",
              "    [theme=dark] .colab-df-convert:hover {\n",
              "      background-color: #434B5C;\n",
              "      box-shadow: 0px 1px 3px 1px rgba(0, 0, 0, 0.15);\n",
              "      filter: drop-shadow(0px 1px 2px rgba(0, 0, 0, 0.3));\n",
              "      fill: #FFFFFF;\n",
              "    }\n",
              "  </style>\n",
              "\n",
              "      <script>\n",
              "        const buttonEl =\n",
              "          document.querySelector('#df-6d727663-d687-4c52-a9b9-3cb14b2d10f4 button.colab-df-convert');\n",
              "        buttonEl.style.display =\n",
              "          google.colab.kernel.accessAllowed ? 'block' : 'none';\n",
              "\n",
              "        async function convertToInteractive(key) {\n",
              "          const element = document.querySelector('#df-6d727663-d687-4c52-a9b9-3cb14b2d10f4');\n",
              "          const dataTable =\n",
              "            await google.colab.kernel.invokeFunction('convertToInteractive',\n",
              "                                                     [key], {});\n",
              "          if (!dataTable) return;\n",
              "\n",
              "          const docLinkHtml = 'Like what you see? Visit the ' +\n",
              "            '<a target=\"_blank\" href=https://colab.research.google.com/notebooks/data_table.ipynb>data table notebook</a>'\n",
              "            + ' to learn more about interactive tables.';\n",
              "          element.innerHTML = '';\n",
              "          dataTable['output_type'] = 'display_data';\n",
              "          await google.colab.output.renderOutput(dataTable, element);\n",
              "          const docLink = document.createElement('div');\n",
              "          docLink.innerHTML = docLinkHtml;\n",
              "          element.appendChild(docLink);\n",
              "        }\n",
              "      </script>\n",
              "    </div>\n",
              "  </div>\n",
              "  "
            ]
          },
          "metadata": {},
          "execution_count": 23
        }
      ]
    },
    {
      "cell_type": "code",
      "source": [
        "#Calculamos la varianza total\n",
        "t = x_features.var().sum()\n",
        "\n",
        "#Calculamos la varianza en cada columna\n",
        "var_x1 = x_features.X1.var()\n",
        "var_x5 = x_features.X5.var()\n",
        "var_x12 = x_features.X12.var()\n",
        "var_x13 = x_features.X13.var()\n",
        "var_x14 = x_features.X14.var()\n",
        "var_x15 = x_features.X15.var()\n",
        "var_x16 = x_features.X16.var()\n",
        "var_x17 = x_features.X17.var()\n",
        "var_x18 = x_features.X18.var()\n",
        "var_x19 = x_features.X19.var()\n",
        "var_x20 = x_features.X20.var()\n",
        "var_x21 = x_features.X21.var()\n",
        "var_x22 = x_features.X22.var()\n",
        "var_x23 = x_features.X23.var()\n",
        "\n",
        "#Mostramos los resultados en porcentajes\n",
        "print('Varianza Total \\t\\t:',t.round(2) )\n",
        "print('Varianza X1 \\t\\t:', ((var_x1/t)*100).round(2),'%' )\n",
        "print('Varianza X5 \\t\\t:', ((var_x5/t)*100).round(2),'%' )\n",
        "print('Varianza X12 \\t\\t:', ((var_x12/t)*100).round(2),'%' )\n",
        "print('Varianza X13 \\t\\t:', ((var_x13/t)*100).round(2),'%' )\n",
        "print('Varianza X14 \\t\\t:', ((var_x14/t)*100).round(2),'%' )\n",
        "print('Varianza X15 \\t\\t:', ((var_x15/t)*100).round(2),'%' )\n",
        "print('Varianza X16 \\t\\t:', ((var_x16/t)*100).round(2),'%' )\n",
        "print('Varianza X17 \\t\\t:', ((var_x17/t)*100).round(2),'%' )\n",
        "print('Varianza X18 \\t\\t:', ((var_x18/t)*100).round(2),'%' )\n",
        "print('Varianza X19 \\t\\t:', ((var_x19/t)*100).round(2),'%' )\n",
        "print('Varianza X20 \\t\\t:', ((var_x20/t)*100).round(2),'%' )\n",
        "print('Varianza X21 \\t\\t:', ((var_x21/t)*100).round(2),'%' )\n",
        "print('Varianza X22 \\t\\t:', ((var_x22/t)*100).round(2),'%' )\n",
        "print('Varianza X23 \\t\\t:', ((var_x23/t)*100).round(2),'%' )"
      ],
      "metadata": {
        "colab": {
          "base_uri": "https://localhost:8080/"
        },
        "id": "4IS5cGOaIJN_",
        "outputId": "9a67dd70-37b4-41f1-a2a3-b363625a0ffa"
      },
      "execution_count": 24,
      "outputs": [
        {
          "output_type": "stream",
          "name": "stdout",
          "text": [
            "Varianza Total \t\t: 11.91\n",
            "Varianza X1 \t\t: 0.14 %\n",
            "Varianza X5 \t\t: 0.21 %\n",
            "Varianza X12 \t\t: 0.04 %\n",
            "Varianza X13 \t\t: 0.04 %\n",
            "Varianza X14 \t\t: 0.01 %\n",
            "Varianza X15 \t\t: 0.03 %\n",
            "Varianza X16 \t\t: 0.03 %\n",
            "Varianza X17 \t\t: 0.02 %\n",
            "Varianza X18 \t\t: 0.0 %\n",
            "Varianza X19 \t\t: 0.0 %\n",
            "Varianza X20 \t\t: 0.0 %\n",
            "Varianza X21 \t\t: 0.01 %\n",
            "Varianza X22 \t\t: 0.01 %\n",
            "Varianza X23 \t\t: 0.01 %\n"
          ]
        }
      ]
    },
    {
      "cell_type": "code",
      "source": [
        "from sklearn.decomposition import PCA\n",
        "\n",
        "pcs = PCA()\n",
        "\n",
        "pcs_t = pcs.fit_transform(x_features[x_features_num])\n",
        "\n",
        "pcs_t[:5]"
      ],
      "metadata": {
        "colab": {
          "base_uri": "https://localhost:8080/"
        },
        "id": "WmuTOwS6K-zm",
        "outputId": "6b85a89f-66a8-46d6-a2f4-715cb3944049"
      },
      "execution_count": 33,
      "outputs": [
        {
          "output_type": "execute_result",
          "data": {
            "text/plain": [
              "array([[-2.62188336e-01, -2.66043778e-02,  2.83146373e-02,\n",
              "        -1.05132422e-03,  7.51209387e-04, -3.05952325e-04,\n",
              "        -1.05215274e-04, -6.32460149e-04,  6.96798290e-04,\n",
              "        -3.51917933e-05,  4.01166784e-04,  4.00554416e-04,\n",
              "         3.45054427e-04,  6.16867637e-04],\n",
              "       [-1.88391545e-01,  6.77139992e-03, -4.11391700e-02,\n",
              "        -5.52144572e-03, -3.54992213e-03,  2.12681964e-03,\n",
              "        -2.33270419e-03, -3.17866955e-03, -2.00853044e-04,\n",
              "        -1.35593370e-04, -2.96008355e-04,  7.43595845e-04,\n",
              "        -2.78087729e-04, -9.08703054e-05],\n",
              "       [-7.68808357e-02, -6.45053669e-02,  1.67421919e-02,\n",
              "        -1.53734385e-03,  4.29286961e-03,  3.34608764e-03,\n",
              "        -1.95443496e-04, -6.52743613e-03,  3.28971253e-03,\n",
              "        -4.52592190e-04,  4.96339231e-03, -5.16948957e-03,\n",
              "        -1.22299834e-03, -4.17206209e-04],\n",
              "       [-3.67205094e-02, -8.51878698e-02,  8.15047941e-02,\n",
              "        -5.24584074e-03,  6.52989127e-03, -4.47510817e-03,\n",
              "         2.22508420e-03,  4.25317200e-04, -2.55094360e-03,\n",
              "         1.19287301e-03,  2.45408416e-03,  5.21091527e-03,\n",
              "         9.12452726e-04, -3.40036551e-03],\n",
              "       [ 2.31171985e-01, -3.06858294e-01,  8.82905163e-02,\n",
              "         1.25746090e-02, -1.68952586e-02,  1.26750560e-02,\n",
              "         3.33495081e-03,  7.42063058e-03,  3.60578983e-03,\n",
              "         2.10717665e-02,  6.44655009e-03,  5.08550881e-03,\n",
              "        -1.49750083e-03,  1.02726449e-03]])"
            ]
          },
          "metadata": {},
          "execution_count": 33
        }
      ]
    },
    {
      "cell_type": "code",
      "source": [
        "#Calculamos la varianza explicada y la varianza acumulada\n",
        "pcsResumen_df = pd.DataFrame({\n",
        "    '% varianza explicada': np.round(pcs.explained_variance_ratio_, 4)*100,\n",
        "    '% varianza acumulada': np.cumsum(pcs.explained_variance_ratio_)*100\n",
        "})\n",
        "\n",
        "#Agregamos las etiquetas correctas a las filas\n",
        "pcs_labels = [f'PC{i + 1}' for i in range(len(x_features[x_features_num].columns))]\n",
        "pcsResumen_df.index = pcs_labels\n",
        "pcsResumen_df"
      ],
      "metadata": {
        "colab": {
          "base_uri": "https://localhost:8080/",
          "height": 488
        },
        "id": "yJm8bXqSLMjP",
        "outputId": "06ad21ba-a5ec-47d9-d3fd-74cae3d86e40"
      },
      "execution_count": 34,
      "outputs": [
        {
          "output_type": "execute_result",
          "data": {
            "text/plain": [
              "      % varianza explicada  % varianza acumulada\n",
              "PC1                  41.41             41.407923\n",
              "PC2                  31.95             73.358705\n",
              "PC3                  18.27             91.627959\n",
              "PC4                   2.05             93.678019\n",
              "PC5                   1.72             95.399950\n",
              "PC6                   1.55             96.945241\n",
              "PC7                   0.93             97.877114\n",
              "PC8                   0.67             98.544561\n",
              "PC9                   0.53             99.077666\n",
              "PC10                  0.37             99.446890\n",
              "PC11                  0.22             99.664934\n",
              "PC12                  0.16             99.829864\n",
              "PC13                  0.11             99.942354\n",
              "PC14                  0.06            100.000000"
            ],
            "text/html": [
              "\n",
              "  <div id=\"df-8b84b785-0d55-4d74-b14b-886c0d3d3798\">\n",
              "    <div class=\"colab-df-container\">\n",
              "      <div>\n",
              "<style scoped>\n",
              "    .dataframe tbody tr th:only-of-type {\n",
              "        vertical-align: middle;\n",
              "    }\n",
              "\n",
              "    .dataframe tbody tr th {\n",
              "        vertical-align: top;\n",
              "    }\n",
              "\n",
              "    .dataframe thead th {\n",
              "        text-align: right;\n",
              "    }\n",
              "</style>\n",
              "<table border=\"1\" class=\"dataframe\">\n",
              "  <thead>\n",
              "    <tr style=\"text-align: right;\">\n",
              "      <th></th>\n",
              "      <th>% varianza explicada</th>\n",
              "      <th>% varianza acumulada</th>\n",
              "    </tr>\n",
              "  </thead>\n",
              "  <tbody>\n",
              "    <tr>\n",
              "      <th>PC1</th>\n",
              "      <td>41.41</td>\n",
              "      <td>41.407923</td>\n",
              "    </tr>\n",
              "    <tr>\n",
              "      <th>PC2</th>\n",
              "      <td>31.95</td>\n",
              "      <td>73.358705</td>\n",
              "    </tr>\n",
              "    <tr>\n",
              "      <th>PC3</th>\n",
              "      <td>18.27</td>\n",
              "      <td>91.627959</td>\n",
              "    </tr>\n",
              "    <tr>\n",
              "      <th>PC4</th>\n",
              "      <td>2.05</td>\n",
              "      <td>93.678019</td>\n",
              "    </tr>\n",
              "    <tr>\n",
              "      <th>PC5</th>\n",
              "      <td>1.72</td>\n",
              "      <td>95.399950</td>\n",
              "    </tr>\n",
              "    <tr>\n",
              "      <th>PC6</th>\n",
              "      <td>1.55</td>\n",
              "      <td>96.945241</td>\n",
              "    </tr>\n",
              "    <tr>\n",
              "      <th>PC7</th>\n",
              "      <td>0.93</td>\n",
              "      <td>97.877114</td>\n",
              "    </tr>\n",
              "    <tr>\n",
              "      <th>PC8</th>\n",
              "      <td>0.67</td>\n",
              "      <td>98.544561</td>\n",
              "    </tr>\n",
              "    <tr>\n",
              "      <th>PC9</th>\n",
              "      <td>0.53</td>\n",
              "      <td>99.077666</td>\n",
              "    </tr>\n",
              "    <tr>\n",
              "      <th>PC10</th>\n",
              "      <td>0.37</td>\n",
              "      <td>99.446890</td>\n",
              "    </tr>\n",
              "    <tr>\n",
              "      <th>PC11</th>\n",
              "      <td>0.22</td>\n",
              "      <td>99.664934</td>\n",
              "    </tr>\n",
              "    <tr>\n",
              "      <th>PC12</th>\n",
              "      <td>0.16</td>\n",
              "      <td>99.829864</td>\n",
              "    </tr>\n",
              "    <tr>\n",
              "      <th>PC13</th>\n",
              "      <td>0.11</td>\n",
              "      <td>99.942354</td>\n",
              "    </tr>\n",
              "    <tr>\n",
              "      <th>PC14</th>\n",
              "      <td>0.06</td>\n",
              "      <td>100.000000</td>\n",
              "    </tr>\n",
              "  </tbody>\n",
              "</table>\n",
              "</div>\n",
              "      <button class=\"colab-df-convert\" onclick=\"convertToInteractive('df-8b84b785-0d55-4d74-b14b-886c0d3d3798')\"\n",
              "              title=\"Convert this dataframe to an interactive table.\"\n",
              "              style=\"display:none;\">\n",
              "        \n",
              "  <svg xmlns=\"http://www.w3.org/2000/svg\" height=\"24px\"viewBox=\"0 0 24 24\"\n",
              "       width=\"24px\">\n",
              "    <path d=\"M0 0h24v24H0V0z\" fill=\"none\"/>\n",
              "    <path d=\"M18.56 5.44l.94 2.06.94-2.06 2.06-.94-2.06-.94-.94-2.06-.94 2.06-2.06.94zm-11 1L8.5 8.5l.94-2.06 2.06-.94-2.06-.94L8.5 2.5l-.94 2.06-2.06.94zm10 10l.94 2.06.94-2.06 2.06-.94-2.06-.94-.94-2.06-.94 2.06-2.06.94z\"/><path d=\"M17.41 7.96l-1.37-1.37c-.4-.4-.92-.59-1.43-.59-.52 0-1.04.2-1.43.59L10.3 9.45l-7.72 7.72c-.78.78-.78 2.05 0 2.83L4 21.41c.39.39.9.59 1.41.59.51 0 1.02-.2 1.41-.59l7.78-7.78 2.81-2.81c.8-.78.8-2.07 0-2.86zM5.41 20L4 18.59l7.72-7.72 1.47 1.35L5.41 20z\"/>\n",
              "  </svg>\n",
              "      </button>\n",
              "      \n",
              "  <style>\n",
              "    .colab-df-container {\n",
              "      display:flex;\n",
              "      flex-wrap:wrap;\n",
              "      gap: 12px;\n",
              "    }\n",
              "\n",
              "    .colab-df-convert {\n",
              "      background-color: #E8F0FE;\n",
              "      border: none;\n",
              "      border-radius: 50%;\n",
              "      cursor: pointer;\n",
              "      display: none;\n",
              "      fill: #1967D2;\n",
              "      height: 32px;\n",
              "      padding: 0 0 0 0;\n",
              "      width: 32px;\n",
              "    }\n",
              "\n",
              "    .colab-df-convert:hover {\n",
              "      background-color: #E2EBFA;\n",
              "      box-shadow: 0px 1px 2px rgba(60, 64, 67, 0.3), 0px 1px 3px 1px rgba(60, 64, 67, 0.15);\n",
              "      fill: #174EA6;\n",
              "    }\n",
              "\n",
              "    [theme=dark] .colab-df-convert {\n",
              "      background-color: #3B4455;\n",
              "      fill: #D2E3FC;\n",
              "    }\n",
              "\n",
              "    [theme=dark] .colab-df-convert:hover {\n",
              "      background-color: #434B5C;\n",
              "      box-shadow: 0px 1px 3px 1px rgba(0, 0, 0, 0.15);\n",
              "      filter: drop-shadow(0px 1px 2px rgba(0, 0, 0, 0.3));\n",
              "      fill: #FFFFFF;\n",
              "    }\n",
              "  </style>\n",
              "\n",
              "      <script>\n",
              "        const buttonEl =\n",
              "          document.querySelector('#df-8b84b785-0d55-4d74-b14b-886c0d3d3798 button.colab-df-convert');\n",
              "        buttonEl.style.display =\n",
              "          google.colab.kernel.accessAllowed ? 'block' : 'none';\n",
              "\n",
              "        async function convertToInteractive(key) {\n",
              "          const element = document.querySelector('#df-8b84b785-0d55-4d74-b14b-886c0d3d3798');\n",
              "          const dataTable =\n",
              "            await google.colab.kernel.invokeFunction('convertToInteractive',\n",
              "                                                     [key], {});\n",
              "          if (!dataTable) return;\n",
              "\n",
              "          const docLinkHtml = 'Like what you see? Visit the ' +\n",
              "            '<a target=\"_blank\" href=https://colab.research.google.com/notebooks/data_table.ipynb>data table notebook</a>'\n",
              "            + ' to learn more about interactive tables.';\n",
              "          element.innerHTML = '';\n",
              "          dataTable['output_type'] = 'display_data';\n",
              "          await google.colab.output.renderOutput(dataTable, element);\n",
              "          const docLink = document.createElement('div');\n",
              "          docLink.innerHTML = docLinkHtml;\n",
              "          element.appendChild(docLink);\n",
              "        }\n",
              "      </script>\n",
              "    </div>\n",
              "  </div>\n",
              "  "
            ]
          },
          "metadata": {},
          "execution_count": 34
        }
      ]
    },
    {
      "cell_type": "code",
      "source": [
        "per_var = np.round(pcs.explained_variance_ratio_*100, decimals=1)\n",
        "labels = [str(x) for x in range(1, len(per_var)+1)]\n",
        "plt.bar(x=range(1, len(per_var)+1), height=per_var)\n",
        "plt.tick_params(axis='x', which = 'both', bottom=False, top=False, labelbottom=False)\n",
        "plt.ylabel('Percentage of Explained Variance')\n",
        "plt.xlabel('Principal Components')\n",
        "plt.title('Screen Plot')\n",
        "plt.show()"
      ],
      "metadata": {
        "colab": {
          "base_uri": "https://localhost:8080/",
          "height": 278
        },
        "id": "dg19oOw6vJDs",
        "outputId": "c92669e4-862e-4394-e5dd-f8d759bd3772"
      },
      "execution_count": 28,
      "outputs": [
        {
          "output_type": "display_data",
          "data": {
            "text/plain": [
              "<Figure size 432x288 with 1 Axes>"
            ],
            "image/png": "[encoded data removed]"
          },
          "metadata": {
            "needs_background": "light"
          }
        }
      ]
    },
    {
      "cell_type": "markdown",
      "source": [
        "El número mínimo de componentes principales después de aplicar PCA sería 3, debido a que la mayor cantidad se encuentra dentro de estas primeros componentes, completando un 91% de la varianza acumulada\n",
        "\n",
        "Verificamos la varianza de los valores y los valores después de PCA para verificar la pérdida de datos."
      ],
      "metadata": {
        "id": "oDZDoi68L_At"
      }
    },
    {
      "cell_type": "code",
      "source": [
        "pcs_df = pd.DataFrame(pcs_t, columns = pcs_labels)\n",
        "\n",
        "print(\"Varianza total variables originales: \", x_features[x_features_num].var().sum())\n",
        "print(\"Varianza total de los componentes: \", pcs_df.var().sum())"
      ],
      "metadata": {
        "colab": {
          "base_uri": "https://localhost:8080/"
        },
        "id": "IUGcJfeQPge8",
        "outputId": "7246ed5d-68df-46bb-ba35-95f88076c69b"
      },
      "execution_count": 41,
      "outputs": [
        {
          "output_type": "stream",
          "name": "stdout",
          "text": [
            "Varianza total variables originales:  0.06607901599120342\n",
            "Varianza total de los componentes:  0.06607901599120343\n"
          ]
        }
      ]
    },
    {
      "cell_type": "markdown",
      "source": [
        "Calculamos la varianza y la varianza acumulada en porcentajes de los valores escalados utilizados en PCA"
      ],
      "metadata": {
        "id": "qierGKkFQ2lt"
      }
    },
    {
      "cell_type": "code",
      "source": [
        "total_var = x_features[x_features_num].var().sum()\n",
        "\n",
        "pd.DataFrame({\n",
        "    \"Porcentaje Varianza\": (x_features[x_features_num].var() / total_var)*100,\n",
        "    \"Porcentaje Varianza Acumulado\": (x_features[x_features_num].var().cumsum() / total_var)*100\n",
        "})"
      ],
      "metadata": {
        "colab": {
          "base_uri": "https://localhost:8080/",
          "height": 488
        },
        "id": "k3Q6Vn-3Q1-E",
        "outputId": "839b2518-a8c0-4297-a5aa-a3193952c5a5"
      },
      "execution_count": 42,
      "outputs": [
        {
          "output_type": "execute_result",
          "data": {
            "text/plain": [
              "     Porcentaje Varianza  Porcentaje Varianza Acumulado\n",
              "X1             25.989370                      25.989370\n",
              "X5             38.195035                      64.184405\n",
              "X12             6.432048                      70.616454\n",
              "X13             6.911827                      77.528281\n",
              "X14             2.196253                      79.724534\n",
              "X15             5.563157                      85.287692\n",
              "X16             5.505059                      90.792751\n",
              "X17             3.172829                      93.965579\n",
              "X18             0.544430                      94.510010\n",
              "X19             0.283587                      94.793596\n",
              "X20             0.585009                      95.378605\n",
              "X21             0.964351                      96.342956\n",
              "X22             1.943576                      98.286532\n",
              "X23             1.713468                     100.000000"
            ],
            "text/html": [
              "\n",
              "  <div id=\"df-ff84b9d3-467f-438e-b9f4-6115562ecccb\">\n",
              "    <div class=\"colab-df-container\">\n",
              "      <div>\n",
              "<style scoped>\n",
              "    .dataframe tbody tr th:only-of-type {\n",
              "        vertical-align: middle;\n",
              "    }\n",
              "\n",
              "    .dataframe tbody tr th {\n",
              "        vertical-align: top;\n",
              "    }\n",
              "\n",
              "    .dataframe thead th {\n",
              "        text-align: right;\n",
              "    }\n",
              "</style>\n",
              "<table border=\"1\" class=\"dataframe\">\n",
              "  <thead>\n",
              "    <tr style=\"text-align: right;\">\n",
              "      <th></th>\n",
              "      <th>Porcentaje Varianza</th>\n",
              "      <th>Porcentaje Varianza Acumulado</th>\n",
              "    </tr>\n",
              "  </thead>\n",
              "  <tbody>\n",
              "    <tr>\n",
              "      <th>X1</th>\n",
              "      <td>25.989370</td>\n",
              "      <td>25.989370</td>\n",
              "    </tr>\n",
              "    <tr>\n",
              "      <th>X5</th>\n",
              "      <td>38.195035</td>\n",
              "      <td>64.184405</td>\n",
              "    </tr>\n",
              "    <tr>\n",
              "      <th>X12</th>\n",
              "      <td>6.432048</td>\n",
              "      <td>70.616454</td>\n",
              "    </tr>\n",
              "    <tr>\n",
              "      <th>X13</th>\n",
              "      <td>6.911827</td>\n",
              "      <td>77.528281</td>\n",
              "    </tr>\n",
              "    <tr>\n",
              "      <th>X14</th>\n",
              "      <td>2.196253</td>\n",
              "      <td>79.724534</td>\n",
              "    </tr>\n",
              "    <tr>\n",
              "      <th>X15</th>\n",
              "      <td>5.563157</td>\n",
              "      <td>85.287692</td>\n",
              "    </tr>\n",
              "    <tr>\n",
              "      <th>X16</th>\n",
              "      <td>5.505059</td>\n",
              "      <td>90.792751</td>\n",
              "    </tr>\n",
              "    <tr>\n",
              "      <th>X17</th>\n",
              "      <td>3.172829</td>\n",
              "      <td>93.965579</td>\n",
              "    </tr>\n",
              "    <tr>\n",
              "      <th>X18</th>\n",
              "      <td>0.544430</td>\n",
              "      <td>94.510010</td>\n",
              "    </tr>\n",
              "    <tr>\n",
              "      <th>X19</th>\n",
              "      <td>0.283587</td>\n",
              "      <td>94.793596</td>\n",
              "    </tr>\n",
              "    <tr>\n",
              "      <th>X20</th>\n",
              "      <td>0.585009</td>\n",
              "      <td>95.378605</td>\n",
              "    </tr>\n",
              "    <tr>\n",
              "      <th>X21</th>\n",
              "      <td>0.964351</td>\n",
              "      <td>96.342956</td>\n",
              "    </tr>\n",
              "    <tr>\n",
              "      <th>X22</th>\n",
              "      <td>1.943576</td>\n",
              "      <td>98.286532</td>\n",
              "    </tr>\n",
              "    <tr>\n",
              "      <th>X23</th>\n",
              "      <td>1.713468</td>\n",
              "      <td>100.000000</td>\n",
              "    </tr>\n",
              "  </tbody>\n",
              "</table>\n",
              "</div>\n",
              "      <button class=\"colab-df-convert\" onclick=\"convertToInteractive('df-ff84b9d3-467f-438e-b9f4-6115562ecccb')\"\n",
              "              title=\"Convert this dataframe to an interactive table.\"\n",
              "              style=\"display:none;\">\n",
              "        \n",
              "  <svg xmlns=\"http://www.w3.org/2000/svg\" height=\"24px\"viewBox=\"0 0 24 24\"\n",
              "       width=\"24px\">\n",
              "    <path d=\"M0 0h24v24H0V0z\" fill=\"none\"/>\n",
              "    <path d=\"M18.56 5.44l.94 2.06.94-2.06 2.06-.94-2.06-.94-.94-2.06-.94 2.06-2.06.94zm-11 1L8.5 8.5l.94-2.06 2.06-.94-2.06-.94L8.5 2.5l-.94 2.06-2.06.94zm10 10l.94 2.06.94-2.06 2.06-.94-2.06-.94-.94-2.06-.94 2.06-2.06.94z\"/><path d=\"M17.41 7.96l-1.37-1.37c-.4-.4-.92-.59-1.43-.59-.52 0-1.04.2-1.43.59L10.3 9.45l-7.72 7.72c-.78.78-.78 2.05 0 2.83L4 21.41c.39.39.9.59 1.41.59.51 0 1.02-.2 1.41-.59l7.78-7.78 2.81-2.81c.8-.78.8-2.07 0-2.86zM5.41 20L4 18.59l7.72-7.72 1.47 1.35L5.41 20z\"/>\n",
              "  </svg>\n",
              "      </button>\n",
              "      \n",
              "  <style>\n",
              "    .colab-df-container {\n",
              "      display:flex;\n",
              "      flex-wrap:wrap;\n",
              "      gap: 12px;\n",
              "    }\n",
              "\n",
              "    .colab-df-convert {\n",
              "      background-color: #E8F0FE;\n",
              "      border: none;\n",
              "      border-radius: 50%;\n",
              "      cursor: pointer;\n",
              "      display: none;\n",
              "      fill: #1967D2;\n",
              "      height: 32px;\n",
              "      padding: 0 0 0 0;\n",
              "      width: 32px;\n",
              "    }\n",
              "\n",
              "    .colab-df-convert:hover {\n",
              "      background-color: #E2EBFA;\n",
              "      box-shadow: 0px 1px 2px rgba(60, 64, 67, 0.3), 0px 1px 3px 1px rgba(60, 64, 67, 0.15);\n",
              "      fill: #174EA6;\n",
              "    }\n",
              "\n",
              "    [theme=dark] .colab-df-convert {\n",
              "      background-color: #3B4455;\n",
              "      fill: #D2E3FC;\n",
              "    }\n",
              "\n",
              "    [theme=dark] .colab-df-convert:hover {\n",
              "      background-color: #434B5C;\n",
              "      box-shadow: 0px 1px 3px 1px rgba(0, 0, 0, 0.15);\n",
              "      filter: drop-shadow(0px 1px 2px rgba(0, 0, 0, 0.3));\n",
              "      fill: #FFFFFF;\n",
              "    }\n",
              "  </style>\n",
              "\n",
              "      <script>\n",
              "        const buttonEl =\n",
              "          document.querySelector('#df-ff84b9d3-467f-438e-b9f4-6115562ecccb button.colab-df-convert');\n",
              "        buttonEl.style.display =\n",
              "          google.colab.kernel.accessAllowed ? 'block' : 'none';\n",
              "\n",
              "        async function convertToInteractive(key) {\n",
              "          const element = document.querySelector('#df-ff84b9d3-467f-438e-b9f4-6115562ecccb');\n",
              "          const dataTable =\n",
              "            await google.colab.kernel.invokeFunction('convertToInteractive',\n",
              "                                                     [key], {});\n",
              "          if (!dataTable) return;\n",
              "\n",
              "          const docLinkHtml = 'Like what you see? Visit the ' +\n",
              "            '<a target=\"_blank\" href=https://colab.research.google.com/notebooks/data_table.ipynb>data table notebook</a>'\n",
              "            + ' to learn more about interactive tables.';\n",
              "          element.innerHTML = '';\n",
              "          dataTable['output_type'] = 'display_data';\n",
              "          await google.colab.output.renderOutput(dataTable, element);\n",
              "          const docLink = document.createElement('div');\n",
              "          docLink.innerHTML = docLinkHtml;\n",
              "          element.appendChild(docLink);\n",
              "        }\n",
              "      </script>\n",
              "    </div>\n",
              "  </div>\n",
              "  "
            ]
          },
          "metadata": {},
          "execution_count": 42
        }
      ]
    },
    {
      "cell_type": "code",
      "source": [
        "componentes_df = pd.DataFrame(\n",
        "    pcs.components_.round(4),\n",
        "    columns = pcs_df.columns,\n",
        "    index = x_features[x_features_num].columns\n",
        ")\n",
        "componentes_df.iloc[:,:3].idxmax()"
      ],
      "metadata": {
        "colab": {
          "base_uri": "https://localhost:8080/"
        },
        "id": "ovd0UgNhRa1-",
        "outputId": "1a23aae7-fb4b-47fa-e9c3-6630857d928f"
      },
      "execution_count": 43,
      "outputs": [
        {
          "output_type": "execute_result",
          "data": {
            "text/plain": [
              "PC1     X5\n",
              "PC2     X1\n",
              "PC3    X14\n",
              "dtype: object"
            ]
          },
          "metadata": {},
          "execution_count": 43
        }
      ]
    },
    {
      "cell_type": "markdown",
      "source": [
        "Para las 3 primeros componenetes los cuales mas explican la varianza, encontramos que las variables que las variables que más influyens son la X5, X1 y X14 respectivamente."
      ],
      "metadata": {
        "id": "BtqK3W53rCRG"
      }
    }
  ]
}
