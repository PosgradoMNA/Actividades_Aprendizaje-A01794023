{
  "nbformat": 4,
  "nbformat_minor": 0,
  "metadata": {
    "colab": {
      "name": "assignment01.ipynb",
      "provenance": []
    },
    "kernelspec": {
      "name": "python3",
      "display_name": "Python 3"
    },
    "language_info": {
      "name": "python"
    }
  },
  "cells": [
    {
      "cell_type": "markdown",
      "source": [
        "# Curso Python Jaime Andres Palacios, matrícula A01794023"
      ],
      "metadata": {
        "id": "ZnKWEI9rmli7"
      }
    },
    {
      "cell_type": "markdown",
      "source": [
        "**MODULE 1: Python basics**"
      ],
      "metadata": {
        "id": "3laMQsU9jGic"
      }
    },
    {
      "cell_type": "code",
      "source": [
        "#Imprimir por primera vez\n",
        "print(\"Hello Python 101\")"
      ],
      "metadata": {
        "id": "mxM_WppZPMFx"
      },
      "execution_count": null,
      "outputs": []
    },
    {
      "cell_type": "code",
      "source": [
        "#Espaciado\n",
        "print(\"Hello\\nWorld!\")"
      ],
      "metadata": {
        "colab": {
          "base_uri": "https://localhost:8080/"
        },
        "id": "Rs4aEPWLje61",
        "outputId": "66c8e369-7e1a-4f6d-f188-4eded6ec4e1d"
      },
      "execution_count": null,
      "outputs": [
        {
          "output_type": "stream",
          "name": "stdout",
          "text": [
            "Hello\n",
            "World!\n"
          ]
        }
      ]
    },
    {
      "cell_type": "markdown",
      "source": [
        "**Types**"
      ],
      "metadata": {
        "id": "VzSpl0ninUns"
      }
    },
    {
      "cell_type": "code",
      "source": [
        "#str\n",
        "type(\"Hello World\")"
      ],
      "metadata": {
        "colab": {
          "base_uri": "https://localhost:8080/"
        },
        "id": "IujvmlPAnTM6",
        "outputId": "fa33606b-3ec4-4952-b620-98031d30078c"
      },
      "execution_count": null,
      "outputs": [
        {
          "output_type": "execute_result",
          "data": {
            "text/plain": [
              "str"
            ]
          },
          "metadata": {},
          "execution_count": 2
        }
      ]
    },
    {
      "cell_type": "code",
      "source": [
        "#int\n",
        "type(1)"
      ],
      "metadata": {
        "colab": {
          "base_uri": "https://localhost:8080/"
        },
        "id": "wsaj0eHBoAIN",
        "outputId": "f4a6b5fc-764b-40ed-d855-718a972648bc"
      },
      "execution_count": null,
      "outputs": [
        {
          "output_type": "execute_result",
          "data": {
            "text/plain": [
              "int"
            ]
          },
          "metadata": {},
          "execution_count": 3
        }
      ]
    },
    {
      "cell_type": "code",
      "source": [
        "#float\n",
        "type(1.1)"
      ],
      "metadata": {
        "colab": {
          "base_uri": "https://localhost:8080/"
        },
        "id": "r2dmDVBZoFxb",
        "outputId": "3a51c5da-c325-4cc9-917e-89796af6203c"
      },
      "execution_count": null,
      "outputs": [
        {
          "output_type": "execute_result",
          "data": {
            "text/plain": [
              "float"
            ]
          },
          "metadata": {},
          "execution_count": 4
        }
      ]
    },
    {
      "cell_type": "code",
      "source": [
        "#bool\n",
        "type(True)"
      ],
      "metadata": {
        "colab": {
          "base_uri": "https://localhost:8080/"
        },
        "id": "fdmb4JWtoLlb",
        "outputId": "5e949d32-b286-4738-ea34-3a4352d2da29"
      },
      "execution_count": null,
      "outputs": [
        {
          "output_type": "execute_result",
          "data": {
            "text/plain": [
              "bool"
            ]
          },
          "metadata": {},
          "execution_count": 5
        }
      ]
    },
    {
      "cell_type": "markdown",
      "source": [
        "**Expressions and variables**\n",
        "\n",
        "\"+\" suma\n",
        "\n",
        "\"-\" resta\n",
        "\n",
        "\"/\" División \"//\" Division redondeada\n",
        "\n",
        "\"*\" Multiplicación"
      ],
      "metadata": {
        "id": "0nmNBg_DogPm"
      }
    },
    {
      "cell_type": "markdown",
      "source": [
        "**String Operations**\n",
        "\n",
        "Variable[] len() = string lenght\n",
        "\n",
        "Usar \"\\n\" genera espacio\n",
        "\n",
        "Usar \"\\t\" para salto"
      ],
      "metadata": {
        "id": "Xv7VJHejpLUV"
      }
    },
    {
      "cell_type": "code",
      "source": [
        "#usar \"+\" para concatenar string\n",
        "a = \"a\"\n",
        "b = \"b\"\n",
        "c = a+b \n",
        "print(c)"
      ],
      "metadata": {
        "colab": {
          "base_uri": "https://localhost:8080/"
        },
        "id": "O3DhDbJOpkYG",
        "outputId": "b18be022-6fbb-483c-ce2f-4dab186b6120"
      },
      "execution_count": null,
      "outputs": [
        {
          "output_type": "stream",
          "name": "stdout",
          "text": [
            "ab\n"
          ]
        }
      ]
    },
    {
      "cell_type": "code",
      "source": [
        "#usar \"*\" para repetir string\n",
        "d = c*2\n",
        "print(d)"
      ],
      "metadata": {
        "colab": {
          "base_uri": "https://localhost:8080/"
        },
        "id": "hd3oghpqqJos",
        "outputId": "2e50a0f9-116f-4ec8-bfdf-5aaebf1c4e98"
      },
      "execution_count": null,
      "outputs": [
        {
          "output_type": "stream",
          "name": "stdout",
          "text": [
            "abab\n"
          ]
        }
      ]
    },
    {
      "cell_type": "markdown",
      "source": [
        "**MODULE 2: Lists and Tuples**"
      ],
      "metadata": {
        "id": "4lu2ca3grxPH"
      }
    },
    {
      "cell_type": "code",
      "source": [
        "# Create your first tuple\n",
        "\n",
        "tuple1 = (\"disco\",10,1.2 )\n",
        "type(tuple1)"
      ],
      "metadata": {
        "colab": {
          "base_uri": "https://localhost:8080/"
        },
        "id": "m2h30JyfqiQ-",
        "outputId": "819a9d08-4d02-431c-b020-daba09deb6b6"
      },
      "execution_count": null,
      "outputs": [
        {
          "output_type": "execute_result",
          "data": {
            "text/plain": [
              "tuple"
            ]
          },
          "metadata": {},
          "execution_count": 10
        }
      ]
    },
    {
      "cell_type": "code",
      "source": [
        "# Print the variable on each index\n",
        "\n",
        "print(tuple1[0])\n",
        "print(tuple1[1])\n",
        "print(tuple1[2])"
      ],
      "metadata": {
        "colab": {
          "base_uri": "https://localhost:8080/"
        },
        "id": "MVdbc6Qr83tg",
        "outputId": "1dc6212f-692e-4b65-e6cb-04aebe2025a5"
      },
      "execution_count": null,
      "outputs": [
        {
          "output_type": "stream",
          "name": "stdout",
          "text": [
            "disco\n",
            "10\n",
            "1.2\n"
          ]
        }
      ]
    },
    {
      "cell_type": "code",
      "source": [
        "# Print the type of value on each index\n",
        "\n",
        "print(type(tuple1[0]))\n",
        "print(type(tuple1[1]))\n",
        "print(type(tuple1[2]))"
      ],
      "metadata": {
        "colab": {
          "base_uri": "https://localhost:8080/"
        },
        "id": "__kb3ENv8869",
        "outputId": "e066b48e-7793-44a6-e304-e5f8affdc5fe"
      },
      "execution_count": null,
      "outputs": [
        {
          "output_type": "stream",
          "name": "stdout",
          "text": [
            "<class 'str'>\n",
            "<class 'int'>\n",
            "<class 'float'>\n"
          ]
        }
      ]
    },
    {
      "cell_type": "code",
      "source": [
        "# Use negative index to get the value of the last element\n",
        "\n",
        "tuple1[-1]"
      ],
      "metadata": {
        "colab": {
          "base_uri": "https://localhost:8080/"
        },
        "id": "3zKRMTOd9C49",
        "outputId": "afd24726-8e11-4ed8-e471-d33a6ba76a0d"
      },
      "execution_count": null,
      "outputs": [
        {
          "output_type": "execute_result",
          "data": {
            "text/plain": [
              "1.2"
            ]
          },
          "metadata": {},
          "execution_count": 13
        }
      ]
    },
    {
      "cell_type": "code",
      "source": [
        "#Concatenar tuplas\n",
        "tuple2 = tuple1 + (\"hard rock\", 10)\n",
        "print(tuple2)"
      ],
      "metadata": {
        "colab": {
          "base_uri": "https://localhost:8080/"
        },
        "id": "fySu01ua9LaZ",
        "outputId": "6638a6e8-ff34-4b96-8163-33aace3abe99"
      },
      "execution_count": null,
      "outputs": [
        {
          "output_type": "stream",
          "name": "stdout",
          "text": [
            "('disco', 10, 1.2, 'hard rock', 10)\n"
          ]
        }
      ]
    },
    {
      "cell_type": "markdown",
      "source": [
        "**Tuples Quiz**"
      ],
      "metadata": {
        "id": "9dpWz0bQ92ZK"
      }
    },
    {
      "cell_type": "code",
      "source": [
        "genres_tuple = (\"pop\", \"rock\", \"soul\", \"hard rock\", \"soft rock\", \\\n",
        "                \"R&B\", \"progressive rock\", \"disco\") \n",
        "print(genres_tuple)\n",
        "\n",
        "#Find the length of the tuple, genres_tuple:\n",
        "\n",
        "len(genres_tuple)\n",
        "\n"
      ],
      "metadata": {
        "id": "9Zq1RQZE97r4"
      },
      "execution_count": null,
      "outputs": []
    },
    {
      "cell_type": "code",
      "source": [
        "#Access the element, with respect to index 3:\n",
        "\n",
        "genres_tuple[3]"
      ],
      "metadata": {
        "id": "o602gZo5-Gbv"
      },
      "execution_count": null,
      "outputs": []
    },
    {
      "cell_type": "code",
      "source": [
        "#Use slicing to obtain indexes 3, 4 and 5:\n",
        "\n",
        "genres_tuple[3:6]"
      ],
      "metadata": {
        "id": "Ezn0w0Dh-PGw"
      },
      "execution_count": null,
      "outputs": []
    },
    {
      "cell_type": "code",
      "source": [
        "#Find the first two elements of the tuple genres_tuple:\n",
        "\n",
        "genres_tuple[0:2]"
      ],
      "metadata": {
        "id": "2fwxIQwq-Sy0"
      },
      "execution_count": null,
      "outputs": []
    },
    {
      "cell_type": "code",
      "source": [
        "#Find the first index of \"disco\":\n",
        "\n",
        "genres_tuple.index(\"disco\")"
      ],
      "metadata": {
        "id": "rzXDg7yr-Wd1"
      },
      "execution_count": null,
      "outputs": []
    },
    {
      "cell_type": "code",
      "source": [
        "#Generate a sorted List from the Tuple C_tuple=(-5, 1, -3):\n",
        "\n",
        "tuple = (-5,1,-3)\n",
        "C_tuple = sorted(tuple)\n",
        "C_tuple"
      ],
      "metadata": {
        "id": "rMKoDu-p-Y5I"
      },
      "execution_count": null,
      "outputs": []
    },
    {
      "cell_type": "markdown",
      "source": [
        "**Lists Lab**"
      ],
      "metadata": {
        "id": "ors5THxk-qQQ"
      }
    },
    {
      "cell_type": "code",
      "source": [
        "#Create a list a_list, with the following elements 1, hello, [1,2,3] and True.\n",
        "a_list = [1,'hello',[1,2,3],True]\n",
        "\n",
        "print(a_list)"
      ],
      "metadata": {
        "colab": {
          "base_uri": "https://localhost:8080/"
        },
        "id": "0CEyPREu_BX8",
        "outputId": "ccdff054-412e-44b4-b5e7-8eb28b60da7f"
      },
      "execution_count": null,
      "outputs": [
        {
          "output_type": "stream",
          "name": "stdout",
          "text": [
            "[1, 'hello', [1, 2, 3], True]\n"
          ]
        }
      ]
    },
    {
      "cell_type": "code",
      "source": [
        "#Find the value stored at index 1 of a_list.\n",
        "a_list[1]"
      ],
      "metadata": {
        "id": "tfhUAi8t_Bgl"
      },
      "execution_count": null,
      "outputs": []
    },
    {
      "cell_type": "code",
      "source": [
        "#Retrieve the elements stored at index 1, 2 and 3 of a_list.\n",
        "a_list[1:4]"
      ],
      "metadata": {
        "id": "JL1ATAIU_YB1"
      },
      "execution_count": null,
      "outputs": []
    },
    {
      "cell_type": "code",
      "source": [
        "#Concatenate the following lists <code>A = \\[1, 'a']</code> and <code>B = \\[2, 1, 'd']</code>:\n",
        "\n",
        "A = [1,'a']\n",
        "B = [2,1,'d']\n",
        "C = A+B\n",
        "print(C)"
      ],
      "metadata": {
        "colab": {
          "base_uri": "https://localhost:8080/"
        },
        "id": "cS0KqgJx_bZM",
        "outputId": "33a28a61-5d5b-4ae1-b3a2-1e7221686e79"
      },
      "execution_count": null,
      "outputs": [
        {
          "output_type": "stream",
          "name": "stdout",
          "text": [
            "[1, 'a', 2, 1, 'd']\n"
          ]
        }
      ]
    },
    {
      "cell_type": "markdown",
      "source": [
        "Sets\n",
        "A set is a unique collection of objects in Python. You can denote a set with a pair of curly brackets <b>{}</b>. Python will automatically remove duplicate items:"
      ],
      "metadata": {
        "id": "W_-K1wDvAFNK"
      }
    },
    {
      "cell_type": "code",
      "source": [
        "# Create a set\n",
        "\n",
        "set1 = {\"pop\", \"rock\", \"soul\", \"hard rock\", \"rock\", \"R&B\", \"rock\", \"disco\"}\n",
        "set1"
      ],
      "metadata": {
        "colab": {
          "base_uri": "https://localhost:8080/"
        },
        "id": "hNYulLx7AKvh",
        "outputId": "05b19873-981c-4d01-ca28-6ecd36b89f4b"
      },
      "execution_count": null,
      "outputs": [
        {
          "output_type": "execute_result",
          "data": {
            "text/plain": [
              "{'R&B', 'disco', 'hard rock', 'pop', 'rock', 'soul'}"
            ]
          },
          "metadata": {},
          "execution_count": 19
        }
      ]
    },
    {
      "cell_type": "code",
      "source": [
        "# Convert list to set\n",
        "\n",
        "album_list = [ \"Michael Jackson\", \"Thriller\", 1982, \"00:42:19\", \\\n",
        "              \"Pop, Rock, R&B\", 46.0, 65, \"30-Nov-82\", None, 10.0]\n",
        "album_set = set(album_list)             \n",
        "print(album_set)\n",
        "type(album_set)"
      ],
      "metadata": {
        "colab": {
          "base_uri": "https://localhost:8080/"
        },
        "id": "lfxZL-G4AaRc",
        "outputId": "f13a93ac-d252-4e15-bed6-192ecdf55199"
      },
      "execution_count": null,
      "outputs": [
        {
          "output_type": "stream",
          "name": "stdout",
          "text": [
            "{None, 'Pop, Rock, R&B', 65, 'Thriller', 10.0, '30-Nov-82', 46.0, '00:42:19', 'Michael Jackson', 1982}\n"
          ]
        },
        {
          "output_type": "execute_result",
          "data": {
            "text/plain": [
              "set"
            ]
          },
          "metadata": {},
          "execution_count": 20
        }
      ]
    },
    {
      "cell_type": "markdown",
      "source": [
        "**Quiz Sets**"
      ],
      "metadata": {
        "id": "vyew_Gp1BJHb"
      }
    },
    {
      "cell_type": "code",
      "source": [
        "#Convert the list ['rap','house','electronic music', 'rap'] to a set:\n",
        "\n",
        "MyList = ['rap','house','electronic music', 'rap']\n",
        "Set1 = set(MyList)\n",
        "Set1"
      ],
      "metadata": {
        "id": "yrloeR1PBIly"
      },
      "execution_count": null,
      "outputs": []
    },
    {
      "cell_type": "code",
      "source": [
        "#Consider the list A = [1, 2, 2, 1] and set B = set([1, 2, 2, 1]), does sum(A) == sum(B)\n",
        "\n",
        "A = [1, 2, 2, 1]\n",
        "B = set([1, 2, 2, 1])\n",
        "\n",
        "Test = sum(A)==sum(B)\n",
        "Test"
      ],
      "metadata": {
        "colab": {
          "base_uri": "https://localhost:8080/"
        },
        "id": "d76vBjN0Bby9",
        "outputId": "b558a59d-878a-4aa3-e60d-5331a374b5ce"
      },
      "execution_count": null,
      "outputs": [
        {
          "output_type": "execute_result",
          "data": {
            "text/plain": [
              "False"
            ]
          },
          "metadata": {},
          "execution_count": 21
        }
      ]
    },
    {
      "cell_type": "code",
      "source": [
        "#Create a new set album_set3 that is the union of album_set1 and album_set2:\n",
        "\n",
        "album_set1 = set([\"Thriller\", 'AC/DC', 'Back in Black'])\n",
        "album_set2 = set([ \"AC/DC\", \"Back in Black\", \"The Dark Side of the Moon\"])\n",
        "\n",
        "album_set3 = album_set1.union(album_set2)\n",
        "album_set3"
      ],
      "metadata": {
        "id": "wTTpxXfkBlNP"
      },
      "execution_count": null,
      "outputs": []
    },
    {
      "cell_type": "code",
      "source": [
        "#Find out if <code>album_set1</code> is a subset of <code>album_set3</code>:\n",
        "\n",
        "set(album_set1).issubset(album_set3)"
      ],
      "metadata": {
        "id": "I6NYh4lhBxbN"
      },
      "execution_count": null,
      "outputs": []
    },
    {
      "cell_type": "markdown",
      "source": [
        "**Dictionaries**\n",
        "You will need this dictionary for the next two questions:"
      ],
      "metadata": {
        "id": "3zqwdYoGCEfi"
      }
    },
    {
      "cell_type": "code",
      "source": [
        "# Question sample dictionary\n",
        "\n",
        "soundtrack_dic = {\"The Bodyguard\":\"1992\", \"Saturday Night Fever\":\"1977\"}\n",
        "soundtrack_dic "
      ],
      "metadata": {
        "id": "gxU7clXqCCNo"
      },
      "execution_count": null,
      "outputs": []
    },
    {
      "cell_type": "code",
      "source": [
        "#a. In the dictionary soundtrack_dic what are the keys ?\n",
        "\n",
        "soundtrack_dic.keys()"
      ],
      "metadata": {
        "id": "iW1jbD1MCdKk"
      },
      "execution_count": null,
      "outputs": []
    },
    {
      "cell_type": "code",
      "source": [
        "#b. In the dictionary soundtrack_dic what are the values\n",
        "\n",
        "soundtrack_dic.values()"
      ],
      "metadata": {
        "id": "jEnF1aoECtjM"
      },
      "execution_count": null,
      "outputs": []
    },
    {
      "cell_type": "code",
      "source": [
        "#You will need this dictionary for the following questions:\n",
        "#The Albums Back in Black, The Bodyguard and Thriller have the following music recording sales in millions 50, 50 and 65 respectively:\n",
        "#a) Create a dictionary album_sales_dict where the keys are the album name and the sales in millions are the values.\n",
        "\n",
        "album_sales_dict = {'Back in Black': 50, 'The Bodyguard': 50, 'Thriller': 65}\n",
        "album_sales_dict"
      ],
      "metadata": {
        "id": "uxTa4XJdDNU6"
      },
      "execution_count": null,
      "outputs": []
    },
    {
      "cell_type": "code",
      "source": [
        "#b) Use the dictionary to find the total sales of Thriller:\n",
        "\n",
        "album_sales_dict['Thriller']"
      ],
      "metadata": {
        "id": "g1eYtk0aDtLd"
      },
      "execution_count": null,
      "outputs": []
    },
    {
      "cell_type": "code",
      "source": [
        "#c) Find the names of the albums from the dictionary using the method keys():\n",
        "\n",
        "album_sales_dict.keys()"
      ],
      "metadata": {
        "id": "lzCWnpSpD7Is"
      },
      "execution_count": null,
      "outputs": []
    },
    {
      "cell_type": "code",
      "source": [
        "#d) Find the values of the recording sales from the dictionary using the method values:\n",
        "\n",
        "album_sales_dict.values()"
      ],
      "metadata": {
        "id": "gJ4FcRMCEEDO"
      },
      "execution_count": null,
      "outputs": []
    },
    {
      "cell_type": "markdown",
      "source": [
        "**MODULE 3: Python fundamentals**\n",
        "\n",
        "**Conditions and branching**"
      ],
      "metadata": {
        "id": "GvglJt4OEp5L"
      }
    },
    {
      "cell_type": "code",
      "source": [
        "#Write an if statement to determine if an album had a rating greater than 8. \n",
        "#Test it using the rating for the album “Back in Black” that had a rating of 8.5. If the statement is true print \"This album is Amazing!\"\n",
        "\n",
        "rating = 8.5\n",
        "\n",
        "if(rating>8):\n",
        "    print('This album is Amazing¡')"
      ],
      "metadata": {
        "id": "6hhWndpQGay6"
      },
      "execution_count": null,
      "outputs": []
    },
    {
      "cell_type": "code",
      "source": [
        "#Write an if-else statement that performs the following. If the rating is larger then eight print “this album is amazing”.\n",
        "#If the rating is less than or equal to 8 print “this album is ok”.\n",
        "\n",
        "if(rating>8):\n",
        "    print('This album is Amazing¡')\n",
        "elif(rating<=8):\n",
        "    print('This album is ok')"
      ],
      "metadata": {
        "id": "OkjyokrsHAEC"
      },
      "execution_count": null,
      "outputs": []
    },
    {
      "cell_type": "code",
      "source": [
        "#Write an if statement to determine if an album came out before 1980 or in the years: 1991 or 1993. \n",
        "#If the condition is true print out the year the album came out.\n",
        "\n",
        "Year = 1991\n",
        "\n",
        "if(Year < 1980) or(Year == 1991) or(Year== 1993):\n",
        "  print('The album came out in ' + str(Year))"
      ],
      "metadata": {
        "id": "P5I5KXiNHFfU"
      },
      "execution_count": null,
      "outputs": []
    },
    {
      "cell_type": "markdown",
      "source": [
        "**Loops**"
      ],
      "metadata": {
        "id": "2AEI_6PSHN2Z"
      }
    },
    {
      "cell_type": "code",
      "source": [
        "#Write a for loop the prints out all the element between -5 and 5 using the range function.\n",
        "\n",
        "for i in range(-4,5):\n",
        "  print(i)"
      ],
      "metadata": {
        "colab": {
          "base_uri": "https://localhost:8080/"
        },
        "id": "-0OnH1x3HNUN",
        "outputId": "82d83355-cc16-482e-90d2-31a85ff8c910"
      },
      "execution_count": null,
      "outputs": [
        {
          "output_type": "stream",
          "name": "stdout",
          "text": [
            "-4\n",
            "-3\n",
            "-2\n",
            "-1\n",
            "0\n",
            "1\n",
            "2\n",
            "3\n",
            "4\n"
          ]
        }
      ]
    },
    {
      "cell_type": "code",
      "source": [
        "#Print the elements of the following list: Genres=[ 'rock', 'R&B', 'Soundtrack', 'R&B', 'soul', 'pop'] Make sure you follow Python conventions.\n",
        "\n",
        "Genres=[ 'rock', 'R&B', 'Soundtrack', 'R&B', 'soul', 'pop']\n",
        "\n",
        "for allgenres in Genres:\n",
        "  print(allgenres)"
      ],
      "metadata": {
        "id": "553ThOHPIZl6"
      },
      "execution_count": null,
      "outputs": []
    },
    {
      "cell_type": "code",
      "source": [
        "#Write a for loop that prints out the following list: squares=['red', 'yellow', 'green', 'purple', 'blue']\n",
        "\n",
        "squares=['red', 'yellow', 'green', 'purple', 'blue']\n",
        "\n",
        "for allsquares in squares:\n",
        "   print(allsquares)"
      ],
      "metadata": {
        "id": "kL8FHnMmIi2J"
      },
      "execution_count": null,
      "outputs": []
    },
    {
      "cell_type": "code",
      "source": [
        "#Write a while loop to display the values of the Rating of an album playlist stored in the list PlayListRatings. \n",
        "#If the score is less than 6, exit the loop. The list PlayListRatings is given by: PlayListRatings = [10, 9.5, 10, 8, 7.5, 5, 10, 10]\n",
        "\n",
        "PlayListRatings = [10, 9.5, 10, 8, 7.5, 5, 10, 10]\n",
        "\n",
        "i=0\n",
        "\n",
        "while (PlayListRatings[i] > 6):\n",
        "  print(PlayListRatings[i])\n",
        "  i = i+1"
      ],
      "metadata": {
        "id": "wO9PT8dDIm0X"
      },
      "execution_count": null,
      "outputs": []
    },
    {
      "cell_type": "code",
      "source": [
        "#Write a while loop to copy the strings 'orange' of the list squares to the list new_squares. \n",
        "#Stop and exit the loop if the value on the list is not 'orange':\n",
        "\n",
        "squares = ['orange', 'orange', 'purple', 'blue ', 'orange']\n",
        "new_squares = []\n",
        "\n",
        "i=0\n",
        "\n",
        "while (squares[i] == 'orange'):\n",
        "  new_squares.append(squares[i])\n",
        "  i=i+1\n",
        "\n",
        "new_squares"
      ],
      "metadata": {
        "id": "m2kRFEk6Iq3k"
      },
      "execution_count": null,
      "outputs": []
    }
  ]
}